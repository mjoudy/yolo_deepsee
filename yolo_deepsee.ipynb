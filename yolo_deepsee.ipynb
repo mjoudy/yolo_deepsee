{
 "cells": [
  {
   "cell_type": "code",
   "execution_count": 3,
   "id": "3ce289a3",
   "metadata": {},
   "outputs": [],
   "source": [
    "import pandas as pd\n",
    "import os\n",
    "import shutil\n",
    "import cv2\n",
    "from sklearn.model_selection import train_test_split\n",
    "from tqdm import tqdm"
   ]
  },
  {
   "cell_type": "code",
   "execution_count": null,
   "id": "27c6174a",
   "metadata": {},
   "outputs": [],
   "source": [
    "from google.colab import drive\n",
    "drive.mount('/content/drive')"
   ]
  },
  {
   "cell_type": "code",
   "execution_count": null,
   "id": "d5557486",
   "metadata": {},
   "outputs": [],
   "source": [
    "# === USER SETTINGS ===\n",
    "CSV_PATH = \"annotations.csv\"\n",
    "IMAGES_DIR = \"/path/to/images\"  # folder with all images\n",
    "OUTPUT_DIR = \"yolo_dataset\"     # output folder\n",
    "SELECTED_CLASSES = [\"Buccinid snail\", \"Spider crab\", \"Polynoid worms\", \"Zoarcid fish\"]\n",
    "RANDOM_SEED = 42\n",
    "VAL_RATIO = 0.2\n",
    "\n",
    "# === SETUP ===\n",
    "os.makedirs(OUTPUT_DIR, exist_ok=True)\n",
    "for split in [\"train\", \"val\"]:\n",
    "    os.makedirs(f\"{OUTPUT_DIR}/images/{split}\", exist_ok=True)\n",
    "    os.makedirs(f\"{OUTPUT_DIR}/labels/{split}\", exist_ok=True)"
   ]
  },
  {
   "cell_type": "code",
   "execution_count": null,
   "id": "87cc5aca",
   "metadata": {},
   "outputs": [],
   "source": [
    "df = pd.read_csv(CSV_PATH)\n",
    "\n",
    "# Check first rows\n",
    "df.head()"
   ]
  },
  {
   "cell_type": "code",
   "execution_count": null,
   "id": "6d4963d3",
   "metadata": {},
   "outputs": [],
   "source": [
    "# Unify class labels (optional)\n",
    "df[\"name_sp\"] = df[\"name_sp\"].replace({\"Polynoid worm\": \"Polynoid worms\"})\n",
    "\n",
    "# Count total annotations per class\n",
    "total_counts = df[\"name_sp\"].value_counts()\n",
    "\n",
    "# Count valid annotations (non-NaN x1/y1/x2/y2)\n",
    "valid_df = df[df[[\"x1\", \"y1\", \"x2\", \"y2\"]].notnull()]\n",
    "valid_counts = valid_df[\"name_sp\"].value_counts()\n",
    "\n",
    "# Count unique images per class (from valid entries)\n",
    "image_counts = valid_df.groupby(\"name_sp\")[\"name_img\"].nunique()\n",
    "\n",
    "# Combine all\n",
    "summary = pd.DataFrame({\n",
    "    \"Total_Annotations\": total_counts,\n",
    "    \"Valid_Annotations\": valid_counts,\n",
    "    \"Valid_Images\": image_counts\n",
    "}).fillna(0).astype(int)\n",
    "\n",
    "summary = summary.sort_values(\"Valid_Annotations\", ascending=False)\n",
    "display(summary)\n"
   ]
  },
  {
   "cell_type": "code",
   "execution_count": null,
   "id": "e77caccb",
   "metadata": {},
   "outputs": [],
   "source": [
    "# Unify class labels (optional)\n",
    "df[\"name_sp\"] = df[\"name_sp\"].replace({\"Polynoid worm\": \"Polynoid worms\"})\n",
    "\n",
    "# Count total annotations per class\n",
    "total_counts = df[\"name_sp\"].value_counts()\n",
    "\n",
    "# Count valid annotations (non-NaN x1/y1/x2/y2)\n",
    "valid_df = df[df[[\"x1\", \"y1\", \"x2\", \"y2\"]].notnull()]\n",
    "valid_counts = valid_df[\"name_sp\"].value_counts()\n",
    "\n",
    "# Count unique images per class (from valid entries)\n",
    "image_counts = valid_df.groupby(\"name_sp\")[\"name_img\"].nunique()\n",
    "\n",
    "# Combine all\n",
    "summary = pd.DataFrame({\n",
    "    \"Total_Annotations\": total_counts,\n",
    "    \"Valid_Annotations\": valid_counts,\n",
    "    \"Valid_Images\": image_counts\n",
    "}).fillna(0).astype(int)\n",
    "\n",
    "summary = summary.sort_values(\"Valid_Annotations\", ascending=False)\n",
    "display(summary)"
   ]
  }
 ],
 "metadata": {
  "kernelspec": {
   "display_name": "deepsee",
   "language": "python",
   "name": "python3"
  },
  "language_info": {
   "codemirror_mode": {
    "name": "ipython",
    "version": 3
   },
   "file_extension": ".py",
   "mimetype": "text/x-python",
   "name": "python",
   "nbconvert_exporter": "python",
   "pygments_lexer": "ipython3",
   "version": "3.10.14"
  }
 },
 "nbformat": 4,
 "nbformat_minor": 5
}
