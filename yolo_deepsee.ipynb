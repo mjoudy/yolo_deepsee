{
  "cells": [
    {
      "cell_type": "code",
      "source": [
        "!pip install ace_tools"
      ],
      "metadata": {
        "colab": {
          "base_uri": "https://localhost:8080/"
        },
        "id": "MjSRPTNcgdEf",
        "outputId": "2031a4b1-663f-40c0-f914-51ab4c2c7a11"
      },
      "id": "MjSRPTNcgdEf",
      "execution_count": null,
      "outputs": [
        {
          "output_type": "stream",
          "name": "stdout",
          "text": [
            "Collecting ace_tools\n",
            "  Downloading ace_tools-0.0-py3-none-any.whl.metadata (300 bytes)\n",
            "Downloading ace_tools-0.0-py3-none-any.whl (1.1 kB)\n",
            "Installing collected packages: ace_tools\n",
            "Successfully installed ace_tools-0.0\n"
          ]
        }
      ]
    },
    {
      "cell_type": "code",
      "execution_count": null,
      "id": "3ce289a3",
      "metadata": {
        "id": "3ce289a3"
      },
      "outputs": [],
      "source": [
        "import pandas as pd\n",
        "import os\n",
        "import shutil\n",
        "import cv2\n",
        "from sklearn.model_selection import train_test_split\n",
        "from tqdm import tqdm"
      ]
    },
    {
      "cell_type": "code",
      "execution_count": null,
      "id": "27c6174a",
      "metadata": {
        "colab": {
          "base_uri": "https://localhost:8080/"
        },
        "id": "27c6174a",
        "outputId": "0414b30e-59d9-4471-f668-e9c722486d7a"
      },
      "outputs": [
        {
          "output_type": "stream",
          "name": "stdout",
          "text": [
            "Drive already mounted at /content/drive; to attempt to forcibly remount, call drive.mount(\"/content/drive\", force_remount=True).\n"
          ]
        }
      ],
      "source": [
        "from google.colab import drive\n",
        "drive.mount('/content/drive')"
      ]
    },
    {
      "cell_type": "code",
      "execution_count": null,
      "id": "d5557486",
      "metadata": {
        "id": "d5557486"
      },
      "outputs": [],
      "source": [
        "# === USER SETTINGS ===\n",
        "BASE_PATH = \"/content/drive/MyDrive/DeepSeaProject/dataset_seanoe_101899\"\n",
        "CSV_NAME = \"raw-dataset.csv\"\n",
        "IMAGES_FOLDER = \"images/Images\"\n",
        "OUTPUT_DIR = os.path.join(BASE_PATH, \"yolo_dataset\")\n",
        "RANDOM_SEED = 42\n",
        "VAL_RATIO = 0.2\n",
        "\n",
        "CSV_PATH = os.path.join(BASE_PATH, CSV_NAME)\n",
        "IMAGES_DIR = os.path.join(BASE_PATH, IMAGES_FOLDER)\n",
        "\n",
        "# === SETUP OUTPUT STRUCTURE ===\n",
        "for split in [\"train\", \"val\"]:\n",
        "    os.makedirs(f\"{OUTPUT_DIR}/images/{split}\", exist_ok=True)\n",
        "    os.makedirs(f\"{OUTPUT_DIR}/labels/{split}\", exist_ok=True)"
      ]
    },
    {
      "cell_type": "code",
      "execution_count": null,
      "id": "87cc5aca",
      "metadata": {
        "colab": {
          "base_uri": "https://localhost:8080/",
          "height": 313
        },
        "id": "87cc5aca",
        "outputId": "08c4c68b-fed0-427c-bda4-77b4a84e0ab3"
      },
      "outputs": [
        {
          "output_type": "execute_result",
          "data": {
            "text/plain": [
              "   Unnamed: 0                  name_img           name_sp      x1     y1  \\\n",
              "0           0  MOMAR_20140727180039.jpg  Bythograeid crab   815.0  839.0   \n",
              "1           1  MOMAR_20140727180039.jpg  Bythograeid crab   817.0  837.0   \n",
              "2           2  MOMAR_20140727180039.jpg        Other fish  1329.0  153.0   \n",
              "3           3  MOMAR_20140727180039.jpg  Bythograeid crab   826.0  790.0   \n",
              "4           4  MOMAR_20140727180039.jpg  Bythograeid crab   814.0  829.0   \n",
              "\n",
              "       x2     y2  length  middle_x  middle_y polygon_values  \n",
              "0   826.0  792.0    48.0     821.0     816.0            NaN  \n",
              "1   817.0  800.0    37.0     817.0     819.0            NaN  \n",
              "2  1262.0  234.0   105.0    1296.0     194.0            NaN  \n",
              "3   812.0  842.0    54.0     819.0     816.0            NaN  \n",
              "4   825.0  794.0    37.0     820.0     812.0            NaN  "
            ],
            "text/html": [
              "\n",
              "  <div id=\"df-8d431d53-48fe-4e09-b1a3-8700ea06ea5c\" class=\"colab-df-container\">\n",
              "    <div>\n",
              "<style scoped>\n",
              "    .dataframe tbody tr th:only-of-type {\n",
              "        vertical-align: middle;\n",
              "    }\n",
              "\n",
              "    .dataframe tbody tr th {\n",
              "        vertical-align: top;\n",
              "    }\n",
              "\n",
              "    .dataframe thead th {\n",
              "        text-align: right;\n",
              "    }\n",
              "</style>\n",
              "<table border=\"1\" class=\"dataframe\">\n",
              "  <thead>\n",
              "    <tr style=\"text-align: right;\">\n",
              "      <th></th>\n",
              "      <th>Unnamed: 0</th>\n",
              "      <th>name_img</th>\n",
              "      <th>name_sp</th>\n",
              "      <th>x1</th>\n",
              "      <th>y1</th>\n",
              "      <th>x2</th>\n",
              "      <th>y2</th>\n",
              "      <th>length</th>\n",
              "      <th>middle_x</th>\n",
              "      <th>middle_y</th>\n",
              "      <th>polygon_values</th>\n",
              "    </tr>\n",
              "  </thead>\n",
              "  <tbody>\n",
              "    <tr>\n",
              "      <th>0</th>\n",
              "      <td>0</td>\n",
              "      <td>MOMAR_20140727180039.jpg</td>\n",
              "      <td>Bythograeid crab</td>\n",
              "      <td>815.0</td>\n",
              "      <td>839.0</td>\n",
              "      <td>826.0</td>\n",
              "      <td>792.0</td>\n",
              "      <td>48.0</td>\n",
              "      <td>821.0</td>\n",
              "      <td>816.0</td>\n",
              "      <td>NaN</td>\n",
              "    </tr>\n",
              "    <tr>\n",
              "      <th>1</th>\n",
              "      <td>1</td>\n",
              "      <td>MOMAR_20140727180039.jpg</td>\n",
              "      <td>Bythograeid crab</td>\n",
              "      <td>817.0</td>\n",
              "      <td>837.0</td>\n",
              "      <td>817.0</td>\n",
              "      <td>800.0</td>\n",
              "      <td>37.0</td>\n",
              "      <td>817.0</td>\n",
              "      <td>819.0</td>\n",
              "      <td>NaN</td>\n",
              "    </tr>\n",
              "    <tr>\n",
              "      <th>2</th>\n",
              "      <td>2</td>\n",
              "      <td>MOMAR_20140727180039.jpg</td>\n",
              "      <td>Other fish</td>\n",
              "      <td>1329.0</td>\n",
              "      <td>153.0</td>\n",
              "      <td>1262.0</td>\n",
              "      <td>234.0</td>\n",
              "      <td>105.0</td>\n",
              "      <td>1296.0</td>\n",
              "      <td>194.0</td>\n",
              "      <td>NaN</td>\n",
              "    </tr>\n",
              "    <tr>\n",
              "      <th>3</th>\n",
              "      <td>3</td>\n",
              "      <td>MOMAR_20140727180039.jpg</td>\n",
              "      <td>Bythograeid crab</td>\n",
              "      <td>826.0</td>\n",
              "      <td>790.0</td>\n",
              "      <td>812.0</td>\n",
              "      <td>842.0</td>\n",
              "      <td>54.0</td>\n",
              "      <td>819.0</td>\n",
              "      <td>816.0</td>\n",
              "      <td>NaN</td>\n",
              "    </tr>\n",
              "    <tr>\n",
              "      <th>4</th>\n",
              "      <td>4</td>\n",
              "      <td>MOMAR_20140727180039.jpg</td>\n",
              "      <td>Bythograeid crab</td>\n",
              "      <td>814.0</td>\n",
              "      <td>829.0</td>\n",
              "      <td>825.0</td>\n",
              "      <td>794.0</td>\n",
              "      <td>37.0</td>\n",
              "      <td>820.0</td>\n",
              "      <td>812.0</td>\n",
              "      <td>NaN</td>\n",
              "    </tr>\n",
              "  </tbody>\n",
              "</table>\n",
              "</div>\n",
              "    <div class=\"colab-df-buttons\">\n",
              "\n",
              "  <div class=\"colab-df-container\">\n",
              "    <button class=\"colab-df-convert\" onclick=\"convertToInteractive('df-8d431d53-48fe-4e09-b1a3-8700ea06ea5c')\"\n",
              "            title=\"Convert this dataframe to an interactive table.\"\n",
              "            style=\"display:none;\">\n",
              "\n",
              "  <svg xmlns=\"http://www.w3.org/2000/svg\" height=\"24px\" viewBox=\"0 -960 960 960\">\n",
              "    <path d=\"M120-120v-720h720v720H120Zm60-500h600v-160H180v160Zm220 220h160v-160H400v160Zm0 220h160v-160H400v160ZM180-400h160v-160H180v160Zm440 0h160v-160H620v160ZM180-180h160v-160H180v160Zm440 0h160v-160H620v160Z\"/>\n",
              "  </svg>\n",
              "    </button>\n",
              "\n",
              "  <style>\n",
              "    .colab-df-container {\n",
              "      display:flex;\n",
              "      gap: 12px;\n",
              "    }\n",
              "\n",
              "    .colab-df-convert {\n",
              "      background-color: #E8F0FE;\n",
              "      border: none;\n",
              "      border-radius: 50%;\n",
              "      cursor: pointer;\n",
              "      display: none;\n",
              "      fill: #1967D2;\n",
              "      height: 32px;\n",
              "      padding: 0 0 0 0;\n",
              "      width: 32px;\n",
              "    }\n",
              "\n",
              "    .colab-df-convert:hover {\n",
              "      background-color: #E2EBFA;\n",
              "      box-shadow: 0px 1px 2px rgba(60, 64, 67, 0.3), 0px 1px 3px 1px rgba(60, 64, 67, 0.15);\n",
              "      fill: #174EA6;\n",
              "    }\n",
              "\n",
              "    .colab-df-buttons div {\n",
              "      margin-bottom: 4px;\n",
              "    }\n",
              "\n",
              "    [theme=dark] .colab-df-convert {\n",
              "      background-color: #3B4455;\n",
              "      fill: #D2E3FC;\n",
              "    }\n",
              "\n",
              "    [theme=dark] .colab-df-convert:hover {\n",
              "      background-color: #434B5C;\n",
              "      box-shadow: 0px 1px 3px 1px rgba(0, 0, 0, 0.15);\n",
              "      filter: drop-shadow(0px 1px 2px rgba(0, 0, 0, 0.3));\n",
              "      fill: #FFFFFF;\n",
              "    }\n",
              "  </style>\n",
              "\n",
              "    <script>\n",
              "      const buttonEl =\n",
              "        document.querySelector('#df-8d431d53-48fe-4e09-b1a3-8700ea06ea5c button.colab-df-convert');\n",
              "      buttonEl.style.display =\n",
              "        google.colab.kernel.accessAllowed ? 'block' : 'none';\n",
              "\n",
              "      async function convertToInteractive(key) {\n",
              "        const element = document.querySelector('#df-8d431d53-48fe-4e09-b1a3-8700ea06ea5c');\n",
              "        const dataTable =\n",
              "          await google.colab.kernel.invokeFunction('convertToInteractive',\n",
              "                                                    [key], {});\n",
              "        if (!dataTable) return;\n",
              "\n",
              "        const docLinkHtml = 'Like what you see? Visit the ' +\n",
              "          '<a target=\"_blank\" href=https://colab.research.google.com/notebooks/data_table.ipynb>data table notebook</a>'\n",
              "          + ' to learn more about interactive tables.';\n",
              "        element.innerHTML = '';\n",
              "        dataTable['output_type'] = 'display_data';\n",
              "        await google.colab.output.renderOutput(dataTable, element);\n",
              "        const docLink = document.createElement('div');\n",
              "        docLink.innerHTML = docLinkHtml;\n",
              "        element.appendChild(docLink);\n",
              "      }\n",
              "    </script>\n",
              "  </div>\n",
              "\n",
              "\n",
              "    <div id=\"df-eeb7f90e-9583-4261-aabb-eab9c64c1088\">\n",
              "      <button class=\"colab-df-quickchart\" onclick=\"quickchart('df-eeb7f90e-9583-4261-aabb-eab9c64c1088')\"\n",
              "                title=\"Suggest charts\"\n",
              "                style=\"display:none;\">\n",
              "\n",
              "<svg xmlns=\"http://www.w3.org/2000/svg\" height=\"24px\"viewBox=\"0 0 24 24\"\n",
              "     width=\"24px\">\n",
              "    <g>\n",
              "        <path d=\"M19 3H5c-1.1 0-2 .9-2 2v14c0 1.1.9 2 2 2h14c1.1 0 2-.9 2-2V5c0-1.1-.9-2-2-2zM9 17H7v-7h2v7zm4 0h-2V7h2v10zm4 0h-2v-4h2v4z\"/>\n",
              "    </g>\n",
              "</svg>\n",
              "      </button>\n",
              "\n",
              "<style>\n",
              "  .colab-df-quickchart {\n",
              "      --bg-color: #E8F0FE;\n",
              "      --fill-color: #1967D2;\n",
              "      --hover-bg-color: #E2EBFA;\n",
              "      --hover-fill-color: #174EA6;\n",
              "      --disabled-fill-color: #AAA;\n",
              "      --disabled-bg-color: #DDD;\n",
              "  }\n",
              "\n",
              "  [theme=dark] .colab-df-quickchart {\n",
              "      --bg-color: #3B4455;\n",
              "      --fill-color: #D2E3FC;\n",
              "      --hover-bg-color: #434B5C;\n",
              "      --hover-fill-color: #FFFFFF;\n",
              "      --disabled-bg-color: #3B4455;\n",
              "      --disabled-fill-color: #666;\n",
              "  }\n",
              "\n",
              "  .colab-df-quickchart {\n",
              "    background-color: var(--bg-color);\n",
              "    border: none;\n",
              "    border-radius: 50%;\n",
              "    cursor: pointer;\n",
              "    display: none;\n",
              "    fill: var(--fill-color);\n",
              "    height: 32px;\n",
              "    padding: 0;\n",
              "    width: 32px;\n",
              "  }\n",
              "\n",
              "  .colab-df-quickchart:hover {\n",
              "    background-color: var(--hover-bg-color);\n",
              "    box-shadow: 0 1px 2px rgba(60, 64, 67, 0.3), 0 1px 3px 1px rgba(60, 64, 67, 0.15);\n",
              "    fill: var(--button-hover-fill-color);\n",
              "  }\n",
              "\n",
              "  .colab-df-quickchart-complete:disabled,\n",
              "  .colab-df-quickchart-complete:disabled:hover {\n",
              "    background-color: var(--disabled-bg-color);\n",
              "    fill: var(--disabled-fill-color);\n",
              "    box-shadow: none;\n",
              "  }\n",
              "\n",
              "  .colab-df-spinner {\n",
              "    border: 2px solid var(--fill-color);\n",
              "    border-color: transparent;\n",
              "    border-bottom-color: var(--fill-color);\n",
              "    animation:\n",
              "      spin 1s steps(1) infinite;\n",
              "  }\n",
              "\n",
              "  @keyframes spin {\n",
              "    0% {\n",
              "      border-color: transparent;\n",
              "      border-bottom-color: var(--fill-color);\n",
              "      border-left-color: var(--fill-color);\n",
              "    }\n",
              "    20% {\n",
              "      border-color: transparent;\n",
              "      border-left-color: var(--fill-color);\n",
              "      border-top-color: var(--fill-color);\n",
              "    }\n",
              "    30% {\n",
              "      border-color: transparent;\n",
              "      border-left-color: var(--fill-color);\n",
              "      border-top-color: var(--fill-color);\n",
              "      border-right-color: var(--fill-color);\n",
              "    }\n",
              "    40% {\n",
              "      border-color: transparent;\n",
              "      border-right-color: var(--fill-color);\n",
              "      border-top-color: var(--fill-color);\n",
              "    }\n",
              "    60% {\n",
              "      border-color: transparent;\n",
              "      border-right-color: var(--fill-color);\n",
              "    }\n",
              "    80% {\n",
              "      border-color: transparent;\n",
              "      border-right-color: var(--fill-color);\n",
              "      border-bottom-color: var(--fill-color);\n",
              "    }\n",
              "    90% {\n",
              "      border-color: transparent;\n",
              "      border-bottom-color: var(--fill-color);\n",
              "    }\n",
              "  }\n",
              "</style>\n",
              "\n",
              "      <script>\n",
              "        async function quickchart(key) {\n",
              "          const quickchartButtonEl =\n",
              "            document.querySelector('#' + key + ' button');\n",
              "          quickchartButtonEl.disabled = true;  // To prevent multiple clicks.\n",
              "          quickchartButtonEl.classList.add('colab-df-spinner');\n",
              "          try {\n",
              "            const charts = await google.colab.kernel.invokeFunction(\n",
              "                'suggestCharts', [key], {});\n",
              "          } catch (error) {\n",
              "            console.error('Error during call to suggestCharts:', error);\n",
              "          }\n",
              "          quickchartButtonEl.classList.remove('colab-df-spinner');\n",
              "          quickchartButtonEl.classList.add('colab-df-quickchart-complete');\n",
              "        }\n",
              "        (() => {\n",
              "          let quickchartButtonEl =\n",
              "            document.querySelector('#df-eeb7f90e-9583-4261-aabb-eab9c64c1088 button');\n",
              "          quickchartButtonEl.style.display =\n",
              "            google.colab.kernel.accessAllowed ? 'block' : 'none';\n",
              "        })();\n",
              "      </script>\n",
              "    </div>\n",
              "\n",
              "    </div>\n",
              "  </div>\n"
            ],
            "application/vnd.google.colaboratory.intrinsic+json": {
              "type": "dataframe",
              "variable_name": "df"
            }
          },
          "metadata": {},
          "execution_count": 73
        }
      ],
      "source": [
        "df = pd.read_csv(CSV_PATH, delimiter=';', on_bad_lines='skip', engine='python')\n",
        "\n",
        "# Check first rows\n",
        "df.head()"
      ]
    },
    {
      "cell_type": "code",
      "source": [
        "df = df[[\"name_img\", \"name_sp\", \"x1\", \"y1\", \"x2\", \"y2\"]]\n",
        "valid_df = df.dropna(subset=[\"x1\", \"y1\", \"x2\", \"y2\"])\n",
        "\n",
        "# === CLASS-WISE SUMMARY ===\n",
        "summary = (\n",
        "    valid_df\n",
        "    .groupby(\"name_sp\")\n",
        "    .agg(\n",
        "        num_images=pd.NamedAgg(column=\"name_img\", aggfunc=lambda x: x.nunique()),\n",
        "        num_valid_annotations=pd.NamedAgg(column=\"name_img\", aggfunc=\"count\")\n",
        "    )\n",
        "    .sort_values(\"num_valid_annotations\", ascending=False)\n",
        ")\n",
        "summary.reset_index(inplace=True)\n",
        "\n",
        "# Display summary\n",
        "summary_display = summary.copy()\n",
        "summary_display.columns = [\"Species\", \"Images\", \"Valid Annotations\"]"
      ],
      "metadata": {
        "id": "0PCdi5wFf9Mb"
      },
      "id": "0PCdi5wFf9Mb",
      "execution_count": null,
      "outputs": []
    },
    {
      "cell_type": "code",
      "source": [
        "from IPython.display import display\n",
        "\n",
        "print(\"\\n✅ Class-wise summary of valid annotations:\")\n",
        "display(summary_display)\n"
      ],
      "metadata": {
        "colab": {
          "base_uri": "https://localhost:8080/",
          "height": 399
        },
        "id": "AYtsTM6rg7ZC",
        "outputId": "8aef04ef-c567-4a39-d914-cd39d0656487"
      },
      "id": "AYtsTM6rg7ZC",
      "execution_count": null,
      "outputs": [
        {
          "output_type": "stream",
          "name": "stdout",
          "text": [
            "\n",
            "✅ Class-wise summary of valid annotations:\n"
          ]
        },
        {
          "output_type": "display_data",
          "data": {
            "text/plain": [
              "            Species  Images  Valid Annotations\n",
              "0    Buccinid snail    3304              98282\n",
              "1       Spider crab    2588              34803\n",
              "2    Polynoid worms    2449              12680\n",
              "3      Zoarcid fish    1715               6185\n",
              "4  Bythograeid crab     463               2426\n",
              "5     Polynoid worm     956               1999\n",
              "6     Cataetyx fish     249                603\n",
              "7      Brittle star     113                483\n",
              "8        Other fish     234                455\n",
              "9      Chimera fish      96                174"
            ],
            "text/html": [
              "\n",
              "  <div id=\"df-2cd4ca79-08aa-48f8-8275-8ed63b7028fc\" class=\"colab-df-container\">\n",
              "    <div>\n",
              "<style scoped>\n",
              "    .dataframe tbody tr th:only-of-type {\n",
              "        vertical-align: middle;\n",
              "    }\n",
              "\n",
              "    .dataframe tbody tr th {\n",
              "        vertical-align: top;\n",
              "    }\n",
              "\n",
              "    .dataframe thead th {\n",
              "        text-align: right;\n",
              "    }\n",
              "</style>\n",
              "<table border=\"1\" class=\"dataframe\">\n",
              "  <thead>\n",
              "    <tr style=\"text-align: right;\">\n",
              "      <th></th>\n",
              "      <th>Species</th>\n",
              "      <th>Images</th>\n",
              "      <th>Valid Annotations</th>\n",
              "    </tr>\n",
              "  </thead>\n",
              "  <tbody>\n",
              "    <tr>\n",
              "      <th>0</th>\n",
              "      <td>Buccinid snail</td>\n",
              "      <td>3304</td>\n",
              "      <td>98282</td>\n",
              "    </tr>\n",
              "    <tr>\n",
              "      <th>1</th>\n",
              "      <td>Spider crab</td>\n",
              "      <td>2588</td>\n",
              "      <td>34803</td>\n",
              "    </tr>\n",
              "    <tr>\n",
              "      <th>2</th>\n",
              "      <td>Polynoid worms</td>\n",
              "      <td>2449</td>\n",
              "      <td>12680</td>\n",
              "    </tr>\n",
              "    <tr>\n",
              "      <th>3</th>\n",
              "      <td>Zoarcid fish</td>\n",
              "      <td>1715</td>\n",
              "      <td>6185</td>\n",
              "    </tr>\n",
              "    <tr>\n",
              "      <th>4</th>\n",
              "      <td>Bythograeid crab</td>\n",
              "      <td>463</td>\n",
              "      <td>2426</td>\n",
              "    </tr>\n",
              "    <tr>\n",
              "      <th>5</th>\n",
              "      <td>Polynoid worm</td>\n",
              "      <td>956</td>\n",
              "      <td>1999</td>\n",
              "    </tr>\n",
              "    <tr>\n",
              "      <th>6</th>\n",
              "      <td>Cataetyx fish</td>\n",
              "      <td>249</td>\n",
              "      <td>603</td>\n",
              "    </tr>\n",
              "    <tr>\n",
              "      <th>7</th>\n",
              "      <td>Brittle star</td>\n",
              "      <td>113</td>\n",
              "      <td>483</td>\n",
              "    </tr>\n",
              "    <tr>\n",
              "      <th>8</th>\n",
              "      <td>Other fish</td>\n",
              "      <td>234</td>\n",
              "      <td>455</td>\n",
              "    </tr>\n",
              "    <tr>\n",
              "      <th>9</th>\n",
              "      <td>Chimera fish</td>\n",
              "      <td>96</td>\n",
              "      <td>174</td>\n",
              "    </tr>\n",
              "  </tbody>\n",
              "</table>\n",
              "</div>\n",
              "    <div class=\"colab-df-buttons\">\n",
              "\n",
              "  <div class=\"colab-df-container\">\n",
              "    <button class=\"colab-df-convert\" onclick=\"convertToInteractive('df-2cd4ca79-08aa-48f8-8275-8ed63b7028fc')\"\n",
              "            title=\"Convert this dataframe to an interactive table.\"\n",
              "            style=\"display:none;\">\n",
              "\n",
              "  <svg xmlns=\"http://www.w3.org/2000/svg\" height=\"24px\" viewBox=\"0 -960 960 960\">\n",
              "    <path d=\"M120-120v-720h720v720H120Zm60-500h600v-160H180v160Zm220 220h160v-160H400v160Zm0 220h160v-160H400v160ZM180-400h160v-160H180v160Zm440 0h160v-160H620v160ZM180-180h160v-160H180v160Zm440 0h160v-160H620v160Z\"/>\n",
              "  </svg>\n",
              "    </button>\n",
              "\n",
              "  <style>\n",
              "    .colab-df-container {\n",
              "      display:flex;\n",
              "      gap: 12px;\n",
              "    }\n",
              "\n",
              "    .colab-df-convert {\n",
              "      background-color: #E8F0FE;\n",
              "      border: none;\n",
              "      border-radius: 50%;\n",
              "      cursor: pointer;\n",
              "      display: none;\n",
              "      fill: #1967D2;\n",
              "      height: 32px;\n",
              "      padding: 0 0 0 0;\n",
              "      width: 32px;\n",
              "    }\n",
              "\n",
              "    .colab-df-convert:hover {\n",
              "      background-color: #E2EBFA;\n",
              "      box-shadow: 0px 1px 2px rgba(60, 64, 67, 0.3), 0px 1px 3px 1px rgba(60, 64, 67, 0.15);\n",
              "      fill: #174EA6;\n",
              "    }\n",
              "\n",
              "    .colab-df-buttons div {\n",
              "      margin-bottom: 4px;\n",
              "    }\n",
              "\n",
              "    [theme=dark] .colab-df-convert {\n",
              "      background-color: #3B4455;\n",
              "      fill: #D2E3FC;\n",
              "    }\n",
              "\n",
              "    [theme=dark] .colab-df-convert:hover {\n",
              "      background-color: #434B5C;\n",
              "      box-shadow: 0px 1px 3px 1px rgba(0, 0, 0, 0.15);\n",
              "      filter: drop-shadow(0px 1px 2px rgba(0, 0, 0, 0.3));\n",
              "      fill: #FFFFFF;\n",
              "    }\n",
              "  </style>\n",
              "\n",
              "    <script>\n",
              "      const buttonEl =\n",
              "        document.querySelector('#df-2cd4ca79-08aa-48f8-8275-8ed63b7028fc button.colab-df-convert');\n",
              "      buttonEl.style.display =\n",
              "        google.colab.kernel.accessAllowed ? 'block' : 'none';\n",
              "\n",
              "      async function convertToInteractive(key) {\n",
              "        const element = document.querySelector('#df-2cd4ca79-08aa-48f8-8275-8ed63b7028fc');\n",
              "        const dataTable =\n",
              "          await google.colab.kernel.invokeFunction('convertToInteractive',\n",
              "                                                    [key], {});\n",
              "        if (!dataTable) return;\n",
              "\n",
              "        const docLinkHtml = 'Like what you see? Visit the ' +\n",
              "          '<a target=\"_blank\" href=https://colab.research.google.com/notebooks/data_table.ipynb>data table notebook</a>'\n",
              "          + ' to learn more about interactive tables.';\n",
              "        element.innerHTML = '';\n",
              "        dataTable['output_type'] = 'display_data';\n",
              "        await google.colab.output.renderOutput(dataTable, element);\n",
              "        const docLink = document.createElement('div');\n",
              "        docLink.innerHTML = docLinkHtml;\n",
              "        element.appendChild(docLink);\n",
              "      }\n",
              "    </script>\n",
              "  </div>\n",
              "\n",
              "\n",
              "    <div id=\"df-25f70a65-5bbd-415f-b1b2-a2c97a757699\">\n",
              "      <button class=\"colab-df-quickchart\" onclick=\"quickchart('df-25f70a65-5bbd-415f-b1b2-a2c97a757699')\"\n",
              "                title=\"Suggest charts\"\n",
              "                style=\"display:none;\">\n",
              "\n",
              "<svg xmlns=\"http://www.w3.org/2000/svg\" height=\"24px\"viewBox=\"0 0 24 24\"\n",
              "     width=\"24px\">\n",
              "    <g>\n",
              "        <path d=\"M19 3H5c-1.1 0-2 .9-2 2v14c0 1.1.9 2 2 2h14c1.1 0 2-.9 2-2V5c0-1.1-.9-2-2-2zM9 17H7v-7h2v7zm4 0h-2V7h2v10zm4 0h-2v-4h2v4z\"/>\n",
              "    </g>\n",
              "</svg>\n",
              "      </button>\n",
              "\n",
              "<style>\n",
              "  .colab-df-quickchart {\n",
              "      --bg-color: #E8F0FE;\n",
              "      --fill-color: #1967D2;\n",
              "      --hover-bg-color: #E2EBFA;\n",
              "      --hover-fill-color: #174EA6;\n",
              "      --disabled-fill-color: #AAA;\n",
              "      --disabled-bg-color: #DDD;\n",
              "  }\n",
              "\n",
              "  [theme=dark] .colab-df-quickchart {\n",
              "      --bg-color: #3B4455;\n",
              "      --fill-color: #D2E3FC;\n",
              "      --hover-bg-color: #434B5C;\n",
              "      --hover-fill-color: #FFFFFF;\n",
              "      --disabled-bg-color: #3B4455;\n",
              "      --disabled-fill-color: #666;\n",
              "  }\n",
              "\n",
              "  .colab-df-quickchart {\n",
              "    background-color: var(--bg-color);\n",
              "    border: none;\n",
              "    border-radius: 50%;\n",
              "    cursor: pointer;\n",
              "    display: none;\n",
              "    fill: var(--fill-color);\n",
              "    height: 32px;\n",
              "    padding: 0;\n",
              "    width: 32px;\n",
              "  }\n",
              "\n",
              "  .colab-df-quickchart:hover {\n",
              "    background-color: var(--hover-bg-color);\n",
              "    box-shadow: 0 1px 2px rgba(60, 64, 67, 0.3), 0 1px 3px 1px rgba(60, 64, 67, 0.15);\n",
              "    fill: var(--button-hover-fill-color);\n",
              "  }\n",
              "\n",
              "  .colab-df-quickchart-complete:disabled,\n",
              "  .colab-df-quickchart-complete:disabled:hover {\n",
              "    background-color: var(--disabled-bg-color);\n",
              "    fill: var(--disabled-fill-color);\n",
              "    box-shadow: none;\n",
              "  }\n",
              "\n",
              "  .colab-df-spinner {\n",
              "    border: 2px solid var(--fill-color);\n",
              "    border-color: transparent;\n",
              "    border-bottom-color: var(--fill-color);\n",
              "    animation:\n",
              "      spin 1s steps(1) infinite;\n",
              "  }\n",
              "\n",
              "  @keyframes spin {\n",
              "    0% {\n",
              "      border-color: transparent;\n",
              "      border-bottom-color: var(--fill-color);\n",
              "      border-left-color: var(--fill-color);\n",
              "    }\n",
              "    20% {\n",
              "      border-color: transparent;\n",
              "      border-left-color: var(--fill-color);\n",
              "      border-top-color: var(--fill-color);\n",
              "    }\n",
              "    30% {\n",
              "      border-color: transparent;\n",
              "      border-left-color: var(--fill-color);\n",
              "      border-top-color: var(--fill-color);\n",
              "      border-right-color: var(--fill-color);\n",
              "    }\n",
              "    40% {\n",
              "      border-color: transparent;\n",
              "      border-right-color: var(--fill-color);\n",
              "      border-top-color: var(--fill-color);\n",
              "    }\n",
              "    60% {\n",
              "      border-color: transparent;\n",
              "      border-right-color: var(--fill-color);\n",
              "    }\n",
              "    80% {\n",
              "      border-color: transparent;\n",
              "      border-right-color: var(--fill-color);\n",
              "      border-bottom-color: var(--fill-color);\n",
              "    }\n",
              "    90% {\n",
              "      border-color: transparent;\n",
              "      border-bottom-color: var(--fill-color);\n",
              "    }\n",
              "  }\n",
              "</style>\n",
              "\n",
              "      <script>\n",
              "        async function quickchart(key) {\n",
              "          const quickchartButtonEl =\n",
              "            document.querySelector('#' + key + ' button');\n",
              "          quickchartButtonEl.disabled = true;  // To prevent multiple clicks.\n",
              "          quickchartButtonEl.classList.add('colab-df-spinner');\n",
              "          try {\n",
              "            const charts = await google.colab.kernel.invokeFunction(\n",
              "                'suggestCharts', [key], {});\n",
              "          } catch (error) {\n",
              "            console.error('Error during call to suggestCharts:', error);\n",
              "          }\n",
              "          quickchartButtonEl.classList.remove('colab-df-spinner');\n",
              "          quickchartButtonEl.classList.add('colab-df-quickchart-complete');\n",
              "        }\n",
              "        (() => {\n",
              "          let quickchartButtonEl =\n",
              "            document.querySelector('#df-25f70a65-5bbd-415f-b1b2-a2c97a757699 button');\n",
              "          quickchartButtonEl.style.display =\n",
              "            google.colab.kernel.accessAllowed ? 'block' : 'none';\n",
              "        })();\n",
              "      </script>\n",
              "    </div>\n",
              "\n",
              "  <div id=\"id_b18db9d0-5e70-43f1-88a1-e0eba04cd85e\">\n",
              "    <style>\n",
              "      .colab-df-generate {\n",
              "        background-color: #E8F0FE;\n",
              "        border: none;\n",
              "        border-radius: 50%;\n",
              "        cursor: pointer;\n",
              "        display: none;\n",
              "        fill: #1967D2;\n",
              "        height: 32px;\n",
              "        padding: 0 0 0 0;\n",
              "        width: 32px;\n",
              "      }\n",
              "\n",
              "      .colab-df-generate:hover {\n",
              "        background-color: #E2EBFA;\n",
              "        box-shadow: 0px 1px 2px rgba(60, 64, 67, 0.3), 0px 1px 3px 1px rgba(60, 64, 67, 0.15);\n",
              "        fill: #174EA6;\n",
              "      }\n",
              "\n",
              "      [theme=dark] .colab-df-generate {\n",
              "        background-color: #3B4455;\n",
              "        fill: #D2E3FC;\n",
              "      }\n",
              "\n",
              "      [theme=dark] .colab-df-generate:hover {\n",
              "        background-color: #434B5C;\n",
              "        box-shadow: 0px 1px 3px 1px rgba(0, 0, 0, 0.15);\n",
              "        filter: drop-shadow(0px 1px 2px rgba(0, 0, 0, 0.3));\n",
              "        fill: #FFFFFF;\n",
              "      }\n",
              "    </style>\n",
              "    <button class=\"colab-df-generate\" onclick=\"generateWithVariable('summary_display')\"\n",
              "            title=\"Generate code using this dataframe.\"\n",
              "            style=\"display:none;\">\n",
              "\n",
              "  <svg xmlns=\"http://www.w3.org/2000/svg\" height=\"24px\"viewBox=\"0 0 24 24\"\n",
              "       width=\"24px\">\n",
              "    <path d=\"M7,19H8.4L18.45,9,17,7.55,7,17.6ZM5,21V16.75L18.45,3.32a2,2,0,0,1,2.83,0l1.4,1.43a1.91,1.91,0,0,1,.58,1.4,1.91,1.91,0,0,1-.58,1.4L9.25,21ZM18.45,9,17,7.55Zm-12,3A5.31,5.31,0,0,0,4.9,8.1,5.31,5.31,0,0,0,1,6.5,5.31,5.31,0,0,0,4.9,4.9,5.31,5.31,0,0,0,6.5,1,5.31,5.31,0,0,0,8.1,4.9,5.31,5.31,0,0,0,12,6.5,5.46,5.46,0,0,0,6.5,12Z\"/>\n",
              "  </svg>\n",
              "    </button>\n",
              "    <script>\n",
              "      (() => {\n",
              "      const buttonEl =\n",
              "        document.querySelector('#id_b18db9d0-5e70-43f1-88a1-e0eba04cd85e button.colab-df-generate');\n",
              "      buttonEl.style.display =\n",
              "        google.colab.kernel.accessAllowed ? 'block' : 'none';\n",
              "\n",
              "      buttonEl.onclick = () => {\n",
              "        google.colab.notebook.generateWithVariable('summary_display');\n",
              "      }\n",
              "      })();\n",
              "    </script>\n",
              "  </div>\n",
              "\n",
              "    </div>\n",
              "  </div>\n"
            ],
            "application/vnd.google.colaboratory.intrinsic+json": {
              "type": "dataframe",
              "variable_name": "summary_display",
              "summary": "{\n  \"name\": \"summary_display\",\n  \"rows\": 10,\n  \"fields\": [\n    {\n      \"column\": \"Species\",\n      \"properties\": {\n        \"dtype\": \"string\",\n        \"num_unique_values\": 10,\n        \"samples\": [\n          \"Other fish\",\n          \"Spider crab\",\n          \"Polynoid worm\"\n        ],\n        \"semantic_type\": \"\",\n        \"description\": \"\"\n      }\n    },\n    {\n      \"column\": \"Images\",\n      \"properties\": {\n        \"dtype\": \"number\",\n        \"std\": 1202,\n        \"min\": 96,\n        \"max\": 3304,\n        \"num_unique_values\": 10,\n        \"samples\": [\n          234,\n          2588,\n          956\n        ],\n        \"semantic_type\": \"\",\n        \"description\": \"\"\n      }\n    },\n    {\n      \"column\": \"Valid Annotations\",\n      \"properties\": {\n        \"dtype\": \"number\",\n        \"std\": 30878,\n        \"min\": 174,\n        \"max\": 98282,\n        \"num_unique_values\": 10,\n        \"samples\": [\n          455,\n          34803,\n          1999\n        ],\n        \"semantic_type\": \"\",\n        \"description\": \"\"\n      }\n    }\n  ]\n}"
            }
          },
          "metadata": {}
        }
      ]
    },
    {
      "cell_type": "code",
      "source": [
        "# === SELECT CLASSES TO TRAIN ===\n",
        "SELECTED_CLASSES = [\n",
        "    \"Buccinid snail\"\n",
        "]"
      ],
      "metadata": {
        "id": "7sBgAudio__D"
      },
      "id": "7sBgAudio__D",
      "execution_count": null,
      "outputs": []
    },
    {
      "cell_type": "code",
      "execution_count": null,
      "id": "6d4963d3",
      "metadata": {
        "id": "6d4963d3"
      },
      "outputs": [],
      "source": [
        "# === FILTER DATA FOR SELECTED CLASSES ===\n",
        "df_filtered = valid_df[valid_df[\"name_sp\"].isin(SELECTED_CLASSES)]\n",
        "classes = sorted(df_filtered[\"name_sp\"].unique())\n",
        "class2id = {cls: i for i, cls in enumerate(classes)}\n",
        "\n",
        "# === SPLIT IMAGES INTO TRAIN/VAL ===\n",
        "unique_imgs = df_filtered[\"name_img\"].unique()\n",
        "train_imgs, val_imgs = train_test_split(unique_imgs, test_size=VAL_RATIO, random_state=RANDOM_SEED)\n",
        "grouped = df_filtered.groupby(\"name_img\")"
      ]
    },
    {
      "cell_type": "code",
      "execution_count": null,
      "id": "e77caccb",
      "metadata": {
        "id": "e77caccb"
      },
      "outputs": [],
      "source": [
        "# === CONVERT TO YOLO FORMAT AND SAVE ===\n",
        "def process_split(image_list, split_name):\n",
        "    for img_name in tqdm(image_list, desc=f\"Processing {split_name}\"):\n",
        "        img_path = os.path.join(IMAGES_DIR, img_name)\n",
        "        if not os.path.exists(img_path):\n",
        "            print(f\"⚠️ Image not found: {img_path}\")\n",
        "            continue\n",
        "\n",
        "        img = cv2.imread(img_path)\n",
        "        if img is None:\n",
        "            print(f\"⚠️ Cannot read image: {img_path}\")\n",
        "            continue\n",
        "        h, w = img.shape[:2]\n",
        "\n",
        "        shutil.copy(img_path, f\"{OUTPUT_DIR}/images/{split_name}/{img_name}\")\n",
        "\n",
        "        try:\n",
        "            anns = grouped.get_group(img_name)\n",
        "        except KeyError:\n",
        "            print(f\"⚠️ No annotations for: {img_name}\")\n",
        "            continue\n",
        "\n",
        "        yolo_lines = []\n",
        "        for _, row in anns.iterrows():\n",
        "            try:\n",
        "                x_c = (row[\"x1\"] + row[\"x2\"]) / 2 / w\n",
        "                y_c = (row[\"y1\"] + row[\"y2\"]) / 2 / h\n",
        "                bw = abs(row[\"x2\"] - row[\"x1\"]) / w\n",
        "                bh = abs(row[\"y2\"] - row[\"y1\"]) / h\n",
        "                class_id = class2id[row[\"name_sp\"]]\n",
        "                yolo_lines.append(f\"{class_id} {x_c:.6f} {y_c:.6f} {bw:.6f} {bh:.6f}\")\n",
        "            except Exception as e:\n",
        "                print(f\"⚠️ Skipping bad annotation in {img_name}: {e}\")\n",
        "\n",
        "        if yolo_lines:\n",
        "            label_file = img_name.replace(\".jpg\", \".txt\").replace(\".png\", \".txt\")\n",
        "            with open(f\"{OUTPUT_DIR}/labels/{split_name}/{label_file}\", \"w\") as f:\n",
        "                f.write(\"\\n\".join(yolo_lines))\n"
      ]
    },
    {
      "cell_type": "code",
      "source": [
        "# Run for both splits\n",
        "process_split(train_imgs, \"train\")\n",
        "process_split(val_imgs, \"val\")"
      ],
      "metadata": {
        "colab": {
          "base_uri": "https://localhost:8080/"
        },
        "id": "r1kKNrazhbca",
        "outputId": "f57556f0-8e7d-45ad-993e-11bc0f3c7480"
      },
      "id": "r1kKNrazhbca",
      "execution_count": null,
      "outputs": [
        {
          "output_type": "stream",
          "name": "stderr",
          "text": [
            "Processing train: 100%|██████████| 2643/2643 [02:03<00:00, 21.34it/s]\n",
            "Processing val: 100%|██████████| 661/661 [00:31<00:00, 21.16it/s]\n"
          ]
        }
      ]
    },
    {
      "cell_type": "code",
      "source": [
        "# === WRITE data.yaml ===\n",
        "yaml_path = os.path.join(OUTPUT_DIR, \"data.yaml\")\n",
        "with open(yaml_path, \"w\") as f:\n",
        "    f.write(f\"path: {OUTPUT_DIR}\\n\")\n",
        "    f.write(\"train: images/train\\n\")\n",
        "    f.write(\"val: images/val\\n\")\n",
        "    f.write(f\"nc: {len(classes)}\\n\")\n",
        "    f.write(f\"names: {classes}\\n\")"
      ],
      "metadata": {
        "id": "6kdavzuDhgBi"
      },
      "id": "6kdavzuDhgBi",
      "execution_count": null,
      "outputs": []
    },
    {
      "cell_type": "code",
      "source": [
        "# Final report\n",
        "print(\"\\n✅ Dataset is ready!\")\n",
        "print(f\"→ Train images: {len(train_imgs)} | Val images: {len(val_imgs)}\")\n",
        "print(f\"→ Classes: {classes}\")\n",
        "print(f\"→ data.yaml created at: {yaml_path}\")"
      ],
      "metadata": {
        "id": "1qLUSN0gp8R1",
        "outputId": "7f19bc50-30d5-4564-a192-8af2768ffbf6",
        "colab": {
          "base_uri": "https://localhost:8080/"
        }
      },
      "id": "1qLUSN0gp8R1",
      "execution_count": null,
      "outputs": [
        {
          "output_type": "stream",
          "name": "stdout",
          "text": [
            "\n",
            "✅ Dataset is ready!\n",
            "→ Train images: 2643 | Val images: 661\n",
            "→ Classes: ['Buccinid snail']\n",
            "→ data.yaml created at: /content/drive/MyDrive/DeepSeaProject/dataset_seanoe_101899/yolo_dataset/data.yaml\n"
          ]
        }
      ]
    },
    {
      "cell_type": "code",
      "source": [],
      "metadata": {
        "id": "yTCF50cfp-h0",
        "outputId": "574d3b89-2a58-40b4-8d15-4a1aa40f809e",
        "colab": {
          "base_uri": "https://localhost:8080/"
        }
      },
      "id": "yTCF50cfp-h0",
      "execution_count": null,
      "outputs": [
        {
          "metadata": {
            "tags": null
          },
          "name": "stdout",
          "output_type": "stream",
          "text": [
            "Ultralytics 8.3.160 🚀 Python-3.11.13 torch-2.6.0+cu124 CUDA:0 (Tesla T4, 15095MiB)\n",
            "\u001b[34m\u001b[1mengine/trainer: \u001b[0magnostic_nms=False, amp=True, augment=False, auto_augment=randaugment, batch=16, bgr=0.0, box=7.5, cache=False, cfg=None, classes=None, close_mosaic=10, cls=0.5, conf=None, copy_paste=0.0, copy_paste_mode=flip, cos_lr=False, cutmix=0.0, data=/content/drive/MyDrive/DeepSeaProject/dataset_seanoe_101899/yolo_dataset/data.yaml, degrees=0.0, deterministic=True, device=0, dfl=1.5, dnn=False, dropout=0.0, dynamic=False, embed=None, epochs=50, erasing=0.4, exist_ok=False, fliplr=0.5, flipud=0.0, format=torchscript, fraction=1.0, freeze=None, half=False, hsv_h=0.015, hsv_s=0.7, hsv_v=0.4, imgsz=640, int8=False, iou=0.7, keras=False, kobj=1.0, line_width=None, lr0=0.01, lrf=0.01, mask_ratio=4, max_det=300, mixup=0.0, mode=train, model=yolov8n.pt, momentum=0.937, mosaic=1.0, multi_scale=False, name=yolo_finetune_species2, nbs=64, nms=False, opset=None, optimize=False, optimizer=auto, overlap_mask=True, patience=100, perspective=0.0, plots=True, pose=12.0, pretrained=True, profile=False, project=training_output, rect=False, resume=False, retina_masks=False, save=True, save_conf=False, save_crop=False, save_dir=training_output/yolo_finetune_species2, save_frames=False, save_json=False, save_period=-1, save_txt=False, scale=0.5, seed=0, shear=0.0, show=False, show_boxes=True, show_conf=True, show_labels=True, simplify=True, single_cls=False, source=None, split=val, stream_buffer=False, task=detect, time=None, tracker=botsort.yaml, translate=0.1, val=True, verbose=True, vid_stride=1, visualize=False, warmup_bias_lr=0.1, warmup_epochs=3.0, warmup_momentum=0.8, weight_decay=0.0005, workers=8, workspace=None\n",
            "Downloading https://ultralytics.com/assets/Arial.ttf to '/root/.config/Ultralytics/Arial.ttf'...\n"
          ]
        },
        {
          "metadata": {
            "tags": null
          },
          "name": "stderr",
          "output_type": "stream",
          "text": [
            "100%|██████████| 755k/755k [00:00<00:00, 23.6MB/s]"
          ]
        },
        {
          "metadata": {
            "tags": null
          },
          "name": "stdout",
          "output_type": "stream",
          "text": [
            "Overriding model.yaml nc=80 with nc=1\n",
            "\n",
            "                   from  n    params  module                                       arguments                     \n",
            "  0                  -1  1       464  ultralytics.nn.modules.conv.Conv             [3, 16, 3, 2]                 \n",
            "  1                  -1  1      4672  ultralytics.nn.modules.conv.Conv             [16, 32, 3, 2]                \n",
            "  2                  -1  1      7360  ultralytics.nn.modules.block.C2f             [32, 32, 1, True]             \n",
            "  3                  -1  1     18560  ultralytics.nn.modules.conv.Conv             [32, 64, 3, 2]                \n",
            "  4                  -1  2     49664  ultralytics.nn.modules.block.C2f             [64, 64, 2, True]             \n",
            "  5                  -1  1     73984  ultralytics.nn.modules.conv.Conv             [64, 128, 3, 2]               \n",
            "  6                  -1  2    197632  ultralytics.nn.modules.block.C2f             [128, 128, 2, True]           \n",
            "  7                  -1  1    295424  ultralytics.nn.modules.conv.Conv             [128, 256, 3, 2]              \n",
            "  8                  -1  1    460288  ultralytics.nn.modules.block.C2f             [256, 256, 1, True]           \n",
            "  9                  -1  1    164608  ultralytics.nn.modules.block.SPPF            [256, 256, 5]                 \n",
            " 10                  -1  1         0  torch.nn.modules.upsampling.Upsample         [None, 2, 'nearest']          \n",
            " 11             [-1, 6]  1         0  ultralytics.nn.modules.conv.Concat           [1]                           \n",
            " 12                  -1  1    148224  ultralytics.nn.modules.block.C2f             [384, 128, 1]                 \n",
            " 13                  -1  1         0  torch.nn.modules.upsampling.Upsample         [None, 2, 'nearest']          \n",
            " 14             [-1, 4]  1         0  ultralytics.nn.modules.conv.Concat           [1]                           \n",
            " 15                  -1  1     37248  ultralytics.nn.modules.block.C2f             [192, 64, 1]                  \n",
            " 16                  -1  1     36992  ultralytics.nn.modules.conv.Conv             [64, 64, 3, 2]                \n",
            " 17            [-1, 12]  1         0  ultralytics.nn.modules.conv.Concat           [1]                           \n",
            " 18                  -1  1    123648  ultralytics.nn.modules.block.C2f             [192, 128, 1]                 \n",
            " 19                  -1  1    147712  ultralytics.nn.modules.conv.Conv             [128, 128, 3, 2]              \n",
            " 20             [-1, 9]  1         0  ultralytics.nn.modules.conv.Concat           [1]                           \n",
            " 21                  -1  1    493056  ultralytics.nn.modules.block.C2f             [384, 256, 1]                 \n",
            " 22        [15, 18, 21]  1    751507  ultralytics.nn.modules.head.Detect           [1, [64, 128, 256]]           \n"
          ]
        },
        {
          "metadata": {
            "tags": null
          },
          "name": "stderr",
          "output_type": "stream",
          "text": [
            "\n"
          ]
        },
        {
          "metadata": {
            "tags": null
          },
          "name": "stdout",
          "output_type": "stream",
          "text": [
            "Model summary: 129 layers, 3,011,043 parameters, 3,011,027 gradients, 8.2 GFLOPs\n",
            "\n",
            "Transferred 319/355 items from pretrained weights\n",
            "Freezing layer 'model.22.dfl.conv.weight'\n",
            "\u001b[34m\u001b[1mAMP: \u001b[0mrunning Automatic Mixed Precision (AMP) checks...\n",
            "Downloading https://github.com/ultralytics/assets/releases/download/v8.3.0/yolo11n.pt to 'yolo11n.pt'...\n"
          ]
        },
        {
          "metadata": {
            "tags": null
          },
          "name": "stderr",
          "output_type": "stream",
          "text": [
            "100%|██████████| 5.35M/5.35M [00:00<00:00, 104MB/s]\n"
          ]
        },
        {
          "metadata": {
            "tags": null
          },
          "name": "stdout",
          "output_type": "stream",
          "text": [
            "\u001b[34m\u001b[1mAMP: \u001b[0mchecks passed ✅\n",
            "\u001b[34m\u001b[1mtrain: \u001b[0mFast image access ✅ (ping: 0.6±0.2 ms, read: 56.6±28.7 MB/s, size: 178.0 KB)\n"
          ]
        },
        {
          "metadata": {
            "tags": null
          },
          "name": "stderr",
          "output_type": "stream",
          "text": [
            "\u001b[34m\u001b[1mtrain: \u001b[0mScanning /content/drive/MyDrive/DeepSeaProject/dataset_seanoe_101899/yolo_dataset/labels/train... 2643 images, 0 backgrounds, 62 corrupt: 100%|██████████| 2643/2643 [00:42<00:00, 62.43it/s] "
          ]
        },
        {
          "metadata": {
            "tags": null
          },
          "name": "stdout",
          "output_type": "stream",
          "text": [
            "\u001b[34m\u001b[1mtrain: \u001b[0m/content/drive/MyDrive/DeepSeaProject/dataset_seanoe_101899/yolo_dataset/images/train/CAM-TEMPO-MINI-2_20140709180014.jpg: ignoring corrupt image/label: non-normalized or out of bounds coordinates [     1.0009]\n",
            "\u001b[34m\u001b[1mtrain: \u001b[0m/content/drive/MyDrive/DeepSeaProject/dataset_seanoe_101899/yolo_dataset/images/train/CAM-TEMPO-MINI-2_20140710220526.jpg: 1 duplicate labels removed\n",
            "\u001b[34m\u001b[1mtrain: \u001b[0m/content/drive/MyDrive/DeepSeaProject/dataset_seanoe_101899/yolo_dataset/images/train/CAM-TEMPO-MINI-2_20140711101036.jpg: ignoring corrupt image/label: non-normalized or out of bounds coordinates [      1.006]\n",
            "\u001b[34m\u001b[1mtrain: \u001b[0m/content/drive/MyDrive/DeepSeaProject/dataset_seanoe_101899/yolo_dataset/images/train/CAM-TEMPO-MINI-2_20140715181533.jpg: 2 duplicate labels removed\n",
            "\u001b[34m\u001b[1mtrain: \u001b[0m/content/drive/MyDrive/DeepSeaProject/dataset_seanoe_101899/yolo_dataset/images/train/CAM-TEMPO-MINI-2_20140727180027.jpg: ignoring corrupt image/label: non-normalized or out of bounds coordinates [     1.0005]\n",
            "\u001b[34m\u001b[1mtrain: \u001b[0m/content/drive/MyDrive/DeepSeaProject/dataset_seanoe_101899/yolo_dataset/images/train/CAM-TEMPO-MINI-2_20140728100027.jpg: ignoring corrupt image/label: non-normalized or out of bounds coordinates [     1.0009]\n",
            "\u001b[34m\u001b[1mtrain: \u001b[0m/content/drive/MyDrive/DeepSeaProject/dataset_seanoe_101899/yolo_dataset/images/train/CAM-TEMPO-MINI-2_20140919220532.jpg: ignoring corrupt image/label: non-normalized or out of bounds coordinates [     1.0026]\n",
            "\u001b[34m\u001b[1mtrain: \u001b[0m/content/drive/MyDrive/DeepSeaProject/dataset_seanoe_101899/yolo_dataset/images/train/CAM-TEMPO-MINI-2_20140920220019.jpg: ignoring corrupt image/label: non-normalized or out of bounds coordinates [     1.0005]\n",
            "\u001b[34m\u001b[1mtrain: \u001b[0m/content/drive/MyDrive/DeepSeaProject/dataset_seanoe_101899/yolo_dataset/images/train/CAM-TEMPO-MINI-2_20140921061025.jpg: ignoring corrupt image/label: non-normalized or out of bounds coordinates [     1.0013]\n",
            "\u001b[34m\u001b[1mtrain: \u001b[0m/content/drive/MyDrive/DeepSeaProject/dataset_seanoe_101899/yolo_dataset/images/train/CAM-TEMPO-MINI-2_20140923100027.jpg: ignoring corrupt image/label: non-normalized or out of bounds coordinates [     1.0003]\n",
            "\u001b[34m\u001b[1mtrain: \u001b[0m/content/drive/MyDrive/DeepSeaProject/dataset_seanoe_101899/yolo_dataset/images/train/CAM-TEMPO-MINI-2_20141001020524.jpg: ignoring corrupt image/label: non-normalized or out of bounds coordinates [     1.0023      1.0026]\n",
            "\u001b[34m\u001b[1mtrain: \u001b[0m/content/drive/MyDrive/DeepSeaProject/dataset_seanoe_101899/yolo_dataset/images/train/CAM-TEMPO-MINI-2_20141001061042.jpg: ignoring corrupt image/label: non-normalized or out of bounds coordinates [     1.0031]\n",
            "\u001b[34m\u001b[1mtrain: \u001b[0m/content/drive/MyDrive/DeepSeaProject/dataset_seanoe_101899/yolo_dataset/images/train/CAM-TEMPO-MINI-2_20141002060538.jpg: ignoring corrupt image/label: non-normalized or out of bounds coordinates [     1.0005]\n",
            "\u001b[34m\u001b[1mtrain: \u001b[0m/content/drive/MyDrive/DeepSeaProject/dataset_seanoe_101899/yolo_dataset/images/train/CAM-TEMPO-MINI-2_20141006020015.jpg: 14 duplicate labels removed\n",
            "\u001b[34m\u001b[1mtrain: \u001b[0m/content/drive/MyDrive/DeepSeaProject/dataset_seanoe_101899/yolo_dataset/images/train/CAM-TEMPO-MINI-2_20141007220016.jpg: 12 duplicate labels removed\n",
            "\u001b[34m\u001b[1mtrain: \u001b[0m/content/drive/MyDrive/DeepSeaProject/dataset_seanoe_101899/yolo_dataset/images/train/CAM-TEMPO-MINI-2_20141010100524.jpg: ignoring corrupt image/label: non-normalized or out of bounds coordinates [     1.0003]\n",
            "\u001b[34m\u001b[1mtrain: \u001b[0m/content/drive/MyDrive/DeepSeaProject/dataset_seanoe_101899/yolo_dataset/images/train/CAM-TEMPO-MINI-2_20141010221550.jpg: ignoring corrupt image/label: non-normalized or out of bounds coordinates [     1.0023]\n",
            "\u001b[34m\u001b[1mtrain: \u001b[0m/content/drive/MyDrive/DeepSeaProject/dataset_seanoe_101899/yolo_dataset/images/train/CAM-TEMPO-MINI-2_20141014020533.jpg: ignoring corrupt image/label: non-normalized or out of bounds coordinates [      1.001      1.0034]\n",
            "\u001b[34m\u001b[1mtrain: \u001b[0m/content/drive/MyDrive/DeepSeaProject/dataset_seanoe_101899/yolo_dataset/images/train/CAM-TEMPO-MINI-2_20141014060530.jpg: ignoring corrupt image/label: non-normalized or out of bounds coordinates [     1.0003]\n",
            "\u001b[34m\u001b[1mtrain: \u001b[0m/content/drive/MyDrive/DeepSeaProject/dataset_seanoe_101899/yolo_dataset/images/train/CAM-TEMPO-MINI-2_20141016021034.jpg: ignoring corrupt image/label: non-normalized or out of bounds coordinates [     1.0052      1.0034]\n",
            "\u001b[34m\u001b[1mtrain: \u001b[0m/content/drive/MyDrive/DeepSeaProject/dataset_seanoe_101899/yolo_dataset/images/train/CAM-TEMPO-MINI-2_20141016140029.jpg: ignoring corrupt image/label: non-normalized or out of bounds coordinates [     1.0005]\n",
            "\u001b[34m\u001b[1mtrain: \u001b[0m/content/drive/MyDrive/DeepSeaProject/dataset_seanoe_101899/yolo_dataset/images/train/CAM-TEMPO-MINI-2_20141018060533.jpg: ignoring corrupt image/label: non-normalized or out of bounds coordinates [     1.0013]\n",
            "\u001b[34m\u001b[1mtrain: \u001b[0m/content/drive/MyDrive/DeepSeaProject/dataset_seanoe_101899/yolo_dataset/images/train/CAM-TEMPO-MINI-2_20141027140024.jpg: 1 duplicate labels removed\n",
            "\u001b[34m\u001b[1mtrain: \u001b[0m/content/drive/MyDrive/DeepSeaProject/dataset_seanoe_101899/yolo_dataset/images/train/CAM-TEMPO-MINI-2_20141028060019.jpg: ignoring corrupt image/label: non-normalized or out of bounds coordinates [     1.0003]\n",
            "\u001b[34m\u001b[1mtrain: \u001b[0m/content/drive/MyDrive/DeepSeaProject/dataset_seanoe_101899/yolo_dataset/images/train/CAM-TEMPO-MINI-2_20141029060515.jpg: ignoring corrupt image/label: non-normalized or out of bounds coordinates [     1.0036]\n",
            "\u001b[34m\u001b[1mtrain: \u001b[0m/content/drive/MyDrive/DeepSeaProject/dataset_seanoe_101899/yolo_dataset/images/train/CAM-TEMPO-MINI-2_20141029061037.jpg: ignoring corrupt image/label: non-normalized or out of bounds coordinates [     1.0023]\n",
            "\u001b[34m\u001b[1mtrain: \u001b[0m/content/drive/MyDrive/DeepSeaProject/dataset_seanoe_101899/yolo_dataset/images/train/CAM-TEMPO-MINI-2_20141029101550.jpg: ignoring corrupt image/label: non-normalized or out of bounds coordinates [     1.0003]\n",
            "\u001b[34m\u001b[1mtrain: \u001b[0m/content/drive/MyDrive/DeepSeaProject/dataset_seanoe_101899/yolo_dataset/images/train/CAM-TEMPO-MINI-2_20141029140535.jpg: ignoring corrupt image/label: non-normalized or out of bounds coordinates [     1.0018]\n",
            "\u001b[34m\u001b[1mtrain: \u001b[0m/content/drive/MyDrive/DeepSeaProject/dataset_seanoe_101899/yolo_dataset/images/train/CAM-TEMPO-MINI-2_20141029141047.jpg: ignoring corrupt image/label: non-normalized or out of bounds coordinates [      1.001]\n",
            "\u001b[34m\u001b[1mtrain: \u001b[0m/content/drive/MyDrive/DeepSeaProject/dataset_seanoe_101899/yolo_dataset/images/train/CAM-TEMPO-MINI-2_20141029180531.jpg: ignoring corrupt image/label: non-normalized or out of bounds coordinates [      1.001      1.0026]\n",
            "\u001b[34m\u001b[1mtrain: \u001b[0m/content/drive/MyDrive/DeepSeaProject/dataset_seanoe_101899/yolo_dataset/images/train/CAM-TEMPO-MINI-2_20141105140027.jpg: ignoring corrupt image/label: non-normalized or out of bounds coordinates [     1.0031      1.0031       1.001      1.0005]\n",
            "\u001b[34m\u001b[1mtrain: \u001b[0m/content/drive/MyDrive/DeepSeaProject/dataset_seanoe_101899/yolo_dataset/images/train/CAM-TEMPO-MINI-2_20141108141035.jpg: ignoring corrupt image/label: non-normalized or out of bounds coordinates [     1.0018]\n",
            "\u001b[34m\u001b[1mtrain: \u001b[0m/content/drive/MyDrive/DeepSeaProject/dataset_seanoe_101899/yolo_dataset/images/train/CAM-TEMPO-MINI-2_20141109180524.jpg: ignoring corrupt image/label: non-normalized or out of bounds coordinates [     1.0031]\n",
            "\u001b[34m\u001b[1mtrain: \u001b[0m/content/drive/MyDrive/DeepSeaProject/dataset_seanoe_101899/yolo_dataset/images/train/CAM-TEMPO-MINI-2_20141110100522.jpg: ignoring corrupt image/label: non-normalized or out of bounds coordinates [     1.0029]\n",
            "\u001b[34m\u001b[1mtrain: \u001b[0m/content/drive/MyDrive/DeepSeaProject/dataset_seanoe_101899/yolo_dataset/images/train/CAM-TEMPO-MINI-2_20141110101558.jpg: ignoring corrupt image/label: non-normalized or out of bounds coordinates [     1.0003      1.0005]\n",
            "\u001b[34m\u001b[1mtrain: \u001b[0m/content/drive/MyDrive/DeepSeaProject/dataset_seanoe_101899/yolo_dataset/images/train/CAM-TEMPO-MINI-2_20141110180531.jpg: ignoring corrupt image/label: non-normalized or out of bounds coordinates [     1.0013]\n",
            "\u001b[34m\u001b[1mtrain: \u001b[0m/content/drive/MyDrive/DeepSeaProject/dataset_seanoe_101899/yolo_dataset/images/train/CAM-TEMPO-MINI-2_20141110181056.jpg: ignoring corrupt image/label: non-normalized or out of bounds coordinates [     1.0021]\n",
            "\u001b[34m\u001b[1mtrain: \u001b[0m/content/drive/MyDrive/DeepSeaProject/dataset_seanoe_101899/yolo_dataset/images/train/CAM-TEMPO-MINI-2_20141111181554.jpg: 2 duplicate labels removed\n",
            "\u001b[34m\u001b[1mtrain: \u001b[0m/content/drive/MyDrive/DeepSeaProject/dataset_seanoe_101899/yolo_dataset/images/train/CAM-TEMPO-MINI-2_20141115100018.jpg: ignoring corrupt image/label: non-normalized or out of bounds coordinates [     1.0023]\n",
            "\u001b[34m\u001b[1mtrain: \u001b[0m/content/drive/MyDrive/DeepSeaProject/dataset_seanoe_101899/yolo_dataset/images/train/CAM-TEMPO-MINI-2_20141124061550.jpg: ignoring corrupt image/label: non-normalized or out of bounds coordinates [      1.001]\n",
            "\u001b[34m\u001b[1mtrain: \u001b[0m/content/drive/MyDrive/DeepSeaProject/dataset_seanoe_101899/yolo_dataset/images/train/CAM-TEMPO-MINI-2_20141125021539.jpg: ignoring corrupt image/label: non-normalized or out of bounds coordinates [     1.0018]\n",
            "\u001b[34m\u001b[1mtrain: \u001b[0m/content/drive/MyDrive/DeepSeaProject/dataset_seanoe_101899/yolo_dataset/images/train/CAM-TEMPO-MINI-2_20141125221045.jpg: ignoring corrupt image/label: non-normalized or out of bounds coordinates [      1.001]\n",
            "\u001b[34m\u001b[1mtrain: \u001b[0m/content/drive/MyDrive/DeepSeaProject/dataset_seanoe_101899/yolo_dataset/images/train/CAM-TEMPO-MINI-2_20141202060518.jpg: ignoring corrupt image/label: non-normalized or out of bounds coordinates [     1.0005]\n",
            "\u001b[34m\u001b[1mtrain: \u001b[0m/content/drive/MyDrive/DeepSeaProject/dataset_seanoe_101899/yolo_dataset/images/train/CAM-TEMPO-MINI-2_20141202181039.jpg: ignoring corrupt image/label: non-normalized or out of bounds coordinates [     1.0003]\n",
            "\u001b[34m\u001b[1mtrain: \u001b[0m/content/drive/MyDrive/DeepSeaProject/dataset_seanoe_101899/yolo_dataset/images/train/CAM-TEMPO-MINI-2_20141207180522.jpg: ignoring corrupt image/label: non-normalized or out of bounds coordinates [     1.0047      1.0023]\n",
            "\u001b[34m\u001b[1mtrain: \u001b[0m/content/drive/MyDrive/DeepSeaProject/dataset_seanoe_101899/yolo_dataset/images/train/CAM-TEMPO-MINI-2_20141214061035.jpg: ignoring corrupt image/label: non-normalized or out of bounds coordinates [     1.0005]\n",
            "\u001b[34m\u001b[1mtrain: \u001b[0m/content/drive/MyDrive/DeepSeaProject/dataset_seanoe_101899/yolo_dataset/images/train/CAM-TEMPO-MINI-2_20141218141028.jpg: ignoring corrupt image/label: non-normalized or out of bounds coordinates [     1.0018]\n",
            "\u001b[34m\u001b[1mtrain: \u001b[0m/content/drive/MyDrive/DeepSeaProject/dataset_seanoe_101899/yolo_dataset/images/train/CAM-TEMPO-MINI-2_20141218181105.jpg: ignoring corrupt image/label: non-normalized or out of bounds coordinates [     1.0039]\n",
            "\u001b[34m\u001b[1mtrain: \u001b[0m/content/drive/MyDrive/DeepSeaProject/dataset_seanoe_101899/yolo_dataset/images/train/CAM-TEMPO-MINI-2_20141219061553.jpg: ignoring corrupt image/label: non-normalized or out of bounds coordinates [      1.001]\n",
            "\u001b[34m\u001b[1mtrain: \u001b[0m/content/drive/MyDrive/DeepSeaProject/dataset_seanoe_101899/yolo_dataset/images/train/CAM-TEMPO-MINI-2_20141219141031.jpg: ignoring corrupt image/label: non-normalized or out of bounds coordinates [     1.0026]\n",
            "\u001b[34m\u001b[1mtrain: \u001b[0m/content/drive/MyDrive/DeepSeaProject/dataset_seanoe_101899/yolo_dataset/images/train/CAM-TEMPO-MINI-2_20141220061035.jpg: ignoring corrupt image/label: non-normalized or out of bounds coordinates [     1.0031]\n",
            "\u001b[34m\u001b[1mtrain: \u001b[0m/content/drive/MyDrive/DeepSeaProject/dataset_seanoe_101899/yolo_dataset/images/train/CAM-TEMPO-MINI-2_20141223101040.jpg: ignoring corrupt image/label: non-normalized or out of bounds coordinates [     1.0019]\n",
            "\u001b[34m\u001b[1mtrain: \u001b[0m/content/drive/MyDrive/DeepSeaProject/dataset_seanoe_101899/yolo_dataset/images/train/CAM-TEMPO-MINI-2_20141225180545.jpg: ignoring corrupt image/label: non-normalized or out of bounds coordinates [      1.001       1.001]\n",
            "\u001b[34m\u001b[1mtrain: \u001b[0m/content/drive/MyDrive/DeepSeaProject/dataset_seanoe_101899/yolo_dataset/images/train/CAM-TEMPO-MINI-2_20150101140522.jpg: ignoring corrupt image/label: non-normalized or out of bounds coordinates [     1.0008       1.001]\n",
            "\u001b[34m\u001b[1mtrain: \u001b[0m/content/drive/MyDrive/DeepSeaProject/dataset_seanoe_101899/yolo_dataset/images/train/CAM-TEMPO-MINI-2_20150103140032.jpg: ignoring corrupt image/label: non-normalized or out of bounds coordinates [     1.0019]\n",
            "\u001b[34m\u001b[1mtrain: \u001b[0m/content/drive/MyDrive/DeepSeaProject/dataset_seanoe_101899/yolo_dataset/images/train/CAM-TEMPO-MINI-2_20150107101047.jpg: ignoring corrupt image/label: non-normalized or out of bounds coordinates [     1.0003]\n",
            "\u001b[34m\u001b[1mtrain: \u001b[0m/content/drive/MyDrive/DeepSeaProject/dataset_seanoe_101899/yolo_dataset/images/train/CAM-TEMPO-MINI-2_20150109021053.jpg: ignoring corrupt image/label: non-normalized or out of bounds coordinates [     1.0046]\n",
            "\u001b[34m\u001b[1mtrain: \u001b[0m/content/drive/MyDrive/DeepSeaProject/dataset_seanoe_101899/yolo_dataset/images/train/CAM-TEMPO-MINI-2_20150109100022.jpg: ignoring corrupt image/label: non-normalized or out of bounds coordinates [     1.0019]\n",
            "\u001b[34m\u001b[1mtrain: \u001b[0m/content/drive/MyDrive/DeepSeaProject/dataset_seanoe_101899/yolo_dataset/images/train/CAM-TEMPO-MINI-2_20150109101033.jpg: 1 duplicate labels removed\n",
            "\u001b[34m\u001b[1mtrain: \u001b[0m/content/drive/MyDrive/DeepSeaProject/dataset_seanoe_101899/yolo_dataset/images/train/CAM-TEMPO-MINI-2_20150113100020.jpg: ignoring corrupt image/label: non-normalized or out of bounds coordinates [     1.0019]\n",
            "\u001b[34m\u001b[1mtrain: \u001b[0m/content/drive/MyDrive/DeepSeaProject/dataset_seanoe_101899/yolo_dataset/images/train/CAM-TEMPO-MINI-2_20150120141041.jpg: ignoring corrupt image/label: non-normalized or out of bounds coordinates [     1.0014]\n",
            "\u001b[34m\u001b[1mtrain: \u001b[0m/content/drive/MyDrive/DeepSeaProject/dataset_seanoe_101899/yolo_dataset/images/train/CAM-TEMPO-MINI-2_20150122020020.jpg: ignoring corrupt image/label: non-normalized or out of bounds coordinates [     1.0014]\n",
            "\u001b[34m\u001b[1mtrain: \u001b[0m/content/drive/MyDrive/DeepSeaProject/dataset_seanoe_101899/yolo_dataset/images/train/CAM-TEMPO-MINI-2_20150122221550.jpg: ignoring corrupt image/label: non-normalized or out of bounds coordinates [     1.0031]\n",
            "\u001b[34m\u001b[1mtrain: \u001b[0m/content/drive/MyDrive/DeepSeaProject/dataset_seanoe_101899/yolo_dataset/images/train/CAM-TEMPO-MINI-2_20150123060532.jpg: ignoring corrupt image/label: non-normalized or out of bounds coordinates [     1.0003      1.0026]\n",
            "\u001b[34m\u001b[1mtrain: \u001b[0m/content/drive/MyDrive/DeepSeaProject/dataset_seanoe_101899/yolo_dataset/images/train/CAM-TEMPO-MINI-2_20150123100528.jpg: ignoring corrupt image/label: non-normalized or out of bounds coordinates [     1.0023]\n",
            "\u001b[34m\u001b[1mtrain: \u001b[0m/content/drive/MyDrive/DeepSeaProject/dataset_seanoe_101899/yolo_dataset/images/train/CAM-TEMPO-MINI-2_20150123101551.jpg: ignoring corrupt image/label: non-normalized or out of bounds coordinates [     1.0018]\n",
            "\u001b[34m\u001b[1mtrain: \u001b[0m/content/drive/MyDrive/DeepSeaProject/dataset_seanoe_101899/yolo_dataset/images/train/CAM-TEMPO-MINI-2_20150124180015.jpg: ignoring corrupt image/label: non-normalized or out of bounds coordinates [     1.0014]\n",
            "\u001b[34m\u001b[1mtrain: \u001b[0m/content/drive/MyDrive/DeepSeaProject/dataset_seanoe_101899/yolo_dataset/images/train/CAM-TEMPO-MINI-2_20150127181032.jpg: ignoring corrupt image/label: non-normalized or out of bounds coordinates [     1.0018]\n",
            "\u001b[34m\u001b[1mtrain: \u001b[0m/content/drive/MyDrive/DeepSeaProject/dataset_seanoe_101899/yolo_dataset/images/train/CAM-TEMPO-MINI-2_20150130020020.jpg: ignoring corrupt image/label: non-normalized or out of bounds coordinates [     1.0014]\n"
          ]
        },
        {
          "metadata": {
            "tags": null
          },
          "name": "stderr",
          "output_type": "stream",
          "text": [
            "\n"
          ]
        },
        {
          "metadata": {
            "tags": null
          },
          "name": "stdout",
          "output_type": "stream",
          "text": [
            "\u001b[34m\u001b[1mtrain: \u001b[0mNew cache created: /content/drive/MyDrive/DeepSeaProject/dataset_seanoe_101899/yolo_dataset/labels/train.cache\n",
            "\u001b[34m\u001b[1malbumentations: \u001b[0mBlur(p=0.01, blur_limit=(3, 7)), MedianBlur(p=0.01, blur_limit=(3, 7)), ToGray(p=0.01, method='weighted_average', num_output_channels=3), CLAHE(p=0.01, clip_limit=(1.0, 4.0), tile_grid_size=(8, 8))\n",
            "\u001b[34m\u001b[1mval: \u001b[0mFast image access ✅ (ping: 0.6±0.3 ms, read: 67.9±40.9 MB/s, size: 201.1 KB)\n"
          ]
        },
        {
          "metadata": {
            "tags": null
          },
          "name": "stderr",
          "output_type": "stream",
          "text": [
            "\u001b[34m\u001b[1mval: \u001b[0mScanning /content/drive/MyDrive/DeepSeaProject/dataset_seanoe_101899/yolo_dataset/labels/val... 661 images, 0 backgrounds, 20 corrupt: 100%|██████████| 661/661 [00:07<00:00, 90.79it/s] "
          ]
        },
        {
          "metadata": {
            "tags": null
          },
          "name": "stdout",
          "output_type": "stream",
          "text": [
            "\u001b[34m\u001b[1mval: \u001b[0m/content/drive/MyDrive/DeepSeaProject/dataset_seanoe_101899/yolo_dataset/images/val/CAM-TEMPO-MINI-2_20140706220814.jpg: ignoring corrupt image/label: non-normalized or out of bounds coordinates [      1.001]\n",
            "\u001b[34m\u001b[1mval: \u001b[0m/content/drive/MyDrive/DeepSeaProject/dataset_seanoe_101899/yolo_dataset/images/val/CAM-TEMPO-MINI-2_20140716141034.jpg: 1 duplicate labels removed\n",
            "\u001b[34m\u001b[1mval: \u001b[0m/content/drive/MyDrive/DeepSeaProject/dataset_seanoe_101899/yolo_dataset/images/val/CAM-TEMPO-MINI-2_20140930181037.jpg: ignoring corrupt image/label: non-normalized or out of bounds coordinates [     1.0023       1.001]\n",
            "\u001b[34m\u001b[1mval: \u001b[0m/content/drive/MyDrive/DeepSeaProject/dataset_seanoe_101899/yolo_dataset/images/val/CAM-TEMPO-MINI-2_20140930221034.jpg: ignoring corrupt image/label: non-normalized or out of bounds coordinates [     1.0042]\n",
            "\u001b[34m\u001b[1mval: \u001b[0m/content/drive/MyDrive/DeepSeaProject/dataset_seanoe_101899/yolo_dataset/images/val/CAM-TEMPO-MINI-2_20141006220016.jpg: ignoring corrupt image/label: non-normalized or out of bounds coordinates [     1.0023]\n",
            "\u001b[34m\u001b[1mval: \u001b[0m/content/drive/MyDrive/DeepSeaProject/dataset_seanoe_101899/yolo_dataset/images/val/CAM-TEMPO-MINI-2_20141007180032.jpg: ignoring corrupt image/label: non-normalized or out of bounds coordinates [     1.0019]\n",
            "\u001b[34m\u001b[1mval: \u001b[0m/content/drive/MyDrive/DeepSeaProject/dataset_seanoe_101899/yolo_dataset/images/val/CAM-TEMPO-MINI-2_20141010220540.jpg: ignoring corrupt image/label: non-normalized or out of bounds coordinates [     1.0032]\n",
            "\u001b[34m\u001b[1mval: \u001b[0m/content/drive/MyDrive/DeepSeaProject/dataset_seanoe_101899/yolo_dataset/images/val/CAM-TEMPO-MINI-2_20141010221050.jpg: ignoring corrupt image/label: non-normalized or out of bounds coordinates [     1.0028      1.0083]\n",
            "\u001b[34m\u001b[1mval: \u001b[0m/content/drive/MyDrive/DeepSeaProject/dataset_seanoe_101899/yolo_dataset/images/val/CAM-TEMPO-MINI-2_20141011101029.jpg: ignoring corrupt image/label: non-normalized or out of bounds coordinates [     1.0018]\n",
            "\u001b[34m\u001b[1mval: \u001b[0m/content/drive/MyDrive/DeepSeaProject/dataset_seanoe_101899/yolo_dataset/images/val/CAM-TEMPO-MINI-2_20141011101552.jpg: ignoring corrupt image/label: non-normalized or out of bounds coordinates [     1.0008]\n",
            "\u001b[34m\u001b[1mval: \u001b[0m/content/drive/MyDrive/DeepSeaProject/dataset_seanoe_101899/yolo_dataset/images/val/CAM-TEMPO-MINI-2_20141013060024.jpg: ignoring corrupt image/label: non-normalized or out of bounds coordinates [     1.0032]\n",
            "\u001b[34m\u001b[1mval: \u001b[0m/content/drive/MyDrive/DeepSeaProject/dataset_seanoe_101899/yolo_dataset/images/val/CAM-TEMPO-MINI-2_20141125220535.jpg: ignoring corrupt image/label: non-normalized or out of bounds coordinates [      1.001]\n",
            "\u001b[34m\u001b[1mval: \u001b[0m/content/drive/MyDrive/DeepSeaProject/dataset_seanoe_101899/yolo_dataset/images/val/CAM-TEMPO-MINI-2_20141204100525.jpg: ignoring corrupt image/label: non-normalized or out of bounds coordinates [      1.001]\n",
            "\u001b[34m\u001b[1mval: \u001b[0m/content/drive/MyDrive/DeepSeaProject/dataset_seanoe_101899/yolo_dataset/images/val/CAM-TEMPO-MINI-2_20141210141036.jpg: ignoring corrupt image/label: non-normalized or out of bounds coordinates [     1.0031]\n",
            "\u001b[34m\u001b[1mval: \u001b[0m/content/drive/MyDrive/DeepSeaProject/dataset_seanoe_101899/yolo_dataset/images/val/CAM-TEMPO-MINI-2_20141210141547.jpg: ignoring corrupt image/label: non-normalized or out of bounds coordinates [     1.0018]\n",
            "\u001b[34m\u001b[1mval: \u001b[0m/content/drive/MyDrive/DeepSeaProject/dataset_seanoe_101899/yolo_dataset/images/val/CAM-TEMPO-MINI-2_20141213220025.jpg: ignoring corrupt image/label: non-normalized or out of bounds coordinates [     1.0014]\n",
            "\u001b[34m\u001b[1mval: \u001b[0m/content/drive/MyDrive/DeepSeaProject/dataset_seanoe_101899/yolo_dataset/images/val/CAM-TEMPO-MINI-2_20141214020015.jpg: ignoring corrupt image/label: non-normalized or out of bounds coordinates [     1.0019]\n",
            "\u001b[34m\u001b[1mval: \u001b[0m/content/drive/MyDrive/DeepSeaProject/dataset_seanoe_101899/yolo_dataset/images/val/CAM-TEMPO-MINI-2_20141231101050.jpg: ignoring corrupt image/label: non-normalized or out of bounds coordinates [     1.0029]\n",
            "\u001b[34m\u001b[1mval: \u001b[0m/content/drive/MyDrive/DeepSeaProject/dataset_seanoe_101899/yolo_dataset/images/val/CAM-TEMPO-MINI-2_20150121180045.jpg: ignoring corrupt image/label: non-normalized or out of bounds coordinates [     1.0005]\n",
            "\u001b[34m\u001b[1mval: \u001b[0m/content/drive/MyDrive/DeepSeaProject/dataset_seanoe_101899/yolo_dataset/images/val/CAM-TEMPO-MINI-2_20150122181039.jpg: ignoring corrupt image/label: non-normalized or out of bounds coordinates [     1.0005]\n",
            "\u001b[34m\u001b[1mval: \u001b[0m/content/drive/MyDrive/DeepSeaProject/dataset_seanoe_101899/yolo_dataset/images/val/CAM-TEMPO-MINI-2_20150128021042.jpg: ignoring corrupt image/label: non-normalized or out of bounds coordinates [     1.0003]\n"
          ]
        },
        {
          "metadata": {
            "tags": null
          },
          "name": "stderr",
          "output_type": "stream",
          "text": [
            "\n"
          ]
        },
        {
          "metadata": {
            "tags": null
          },
          "name": "stdout",
          "output_type": "stream",
          "text": [
            "\u001b[34m\u001b[1mval: \u001b[0mNew cache created: /content/drive/MyDrive/DeepSeaProject/dataset_seanoe_101899/yolo_dataset/labels/val.cache\n",
            "Plotting labels to training_output/yolo_finetune_species2/labels.jpg... \n",
            "\u001b[34m\u001b[1moptimizer:\u001b[0m 'optimizer=auto' found, ignoring 'lr0=0.01' and 'momentum=0.937' and determining best 'optimizer', 'lr0' and 'momentum' automatically... \n",
            "\u001b[34m\u001b[1moptimizer:\u001b[0m AdamW(lr=0.002, momentum=0.9) with parameter groups 57 weight(decay=0.0), 64 weight(decay=0.0005), 63 bias(decay=0.0)\n",
            "Image sizes 640 train, 640 val\n",
            "Using 2 dataloader workers\n",
            "Logging results to \u001b[1mtraining_output/yolo_finetune_species2\u001b[0m\n",
            "Starting training for 50 epochs...\n",
            "\n",
            "      Epoch    GPU_mem   box_loss   cls_loss   dfl_loss  Instances       Size\n"
          ]
        },
        {
          "metadata": {
            "tags": null
          },
          "name": "stderr",
          "output_type": "stream",
          "text": [
            "       1/50       3.9G      2.707      2.111      1.402        261        640: 100%|██████████| 162/162 [01:12<00:00,  2.24it/s]\n",
            "                 Class     Images  Instances      Box(P          R      mAP50  mAP50-95): 100%|██████████| 21/21 [00:11<00:00,  1.87it/s]\n"
          ]
        },
        {
          "metadata": {
            "tags": null
          },
          "name": "stdout",
          "output_type": "stream",
          "text": [
            "                   all        641      18458      0.326      0.208      0.154     0.0519\n",
            "\n",
            "      Epoch    GPU_mem   box_loss   cls_loss   dfl_loss  Instances       Size\n"
          ]
        },
        {
          "metadata": {
            "tags": null
          },
          "name": "stderr",
          "output_type": "stream",
          "text": [
            "       2/50      3.93G      2.499      1.565      1.287        215        640: 100%|██████████| 162/162 [01:09<00:00,  2.33it/s]\n",
            "                 Class     Images  Instances      Box(P          R      mAP50  mAP50-95): 100%|██████████| 21/21 [00:10<00:00,  2.03it/s]\n"
          ]
        },
        {
          "metadata": {
            "tags": null
          },
          "name": "stdout",
          "output_type": "stream",
          "text": [
            "                   all        641      18458      0.328       0.23      0.182     0.0634\n",
            "\n",
            "      Epoch    GPU_mem   box_loss   cls_loss   dfl_loss  Instances       Size\n"
          ]
        },
        {
          "metadata": {
            "tags": null
          },
          "name": "stderr",
          "output_type": "stream",
          "text": [
            "       3/50      4.34G      2.437      1.465      1.276        322        640: 100%|██████████| 162/162 [01:07<00:00,  2.40it/s]\n",
            "                 Class     Images  Instances      Box(P          R      mAP50  mAP50-95): 100%|██████████| 21/21 [00:10<00:00,  2.02it/s]\n"
          ]
        },
        {
          "metadata": {
            "tags": null
          },
          "name": "stdout",
          "output_type": "stream",
          "text": [
            "                   all        641      18458      0.333      0.245      0.196     0.0692\n",
            "\n",
            "      Epoch    GPU_mem   box_loss   cls_loss   dfl_loss  Instances       Size\n"
          ]
        },
        {
          "metadata": {
            "tags": null
          },
          "name": "stderr",
          "output_type": "stream",
          "text": [
            "       4/50      4.37G      2.401      1.416      1.261        233        640: 100%|██████████| 162/162 [01:09<00:00,  2.35it/s]\n",
            "                 Class     Images  Instances      Box(P          R      mAP50  mAP50-95): 100%|██████████| 21/21 [00:10<00:00,  1.97it/s]\n"
          ]
        },
        {
          "metadata": {
            "tags": null
          },
          "name": "stdout",
          "output_type": "stream",
          "text": [
            "                   all        641      18458      0.333      0.255      0.202     0.0694\n",
            "\n",
            "      Epoch    GPU_mem   box_loss   cls_loss   dfl_loss  Instances       Size\n"
          ]
        },
        {
          "metadata": {
            "tags": null
          },
          "name": "stderr",
          "output_type": "stream",
          "text": [
            "       5/50      4.37G      2.351      1.368      1.238        275        640: 100%|██████████| 162/162 [01:09<00:00,  2.34it/s]\n",
            "                 Class     Images  Instances      Box(P          R      mAP50  mAP50-95): 100%|██████████| 21/21 [00:10<00:00,  2.01it/s]\n"
          ]
        },
        {
          "metadata": {
            "tags": null
          },
          "name": "stdout",
          "output_type": "stream",
          "text": [
            "                   all        641      18458      0.379      0.261      0.223     0.0811\n",
            "\n",
            "      Epoch    GPU_mem   box_loss   cls_loss   dfl_loss  Instances       Size\n"
          ]
        },
        {
          "metadata": {
            "tags": null
          },
          "name": "stderr",
          "output_type": "stream",
          "text": [
            "       6/50       4.4G      2.342      1.356      1.232        144        640: 100%|██████████| 162/162 [01:08<00:00,  2.38it/s]\n",
            "                 Class     Images  Instances      Box(P          R      mAP50  mAP50-95): 100%|██████████| 21/21 [00:10<00:00,  2.04it/s]\n"
          ]
        },
        {
          "metadata": {
            "tags": null
          },
          "name": "stdout",
          "output_type": "stream",
          "text": [
            "                   all        641      18458      0.365      0.269      0.225     0.0819\n",
            "\n",
            "      Epoch    GPU_mem   box_loss   cls_loss   dfl_loss  Instances       Size\n"
          ]
        },
        {
          "metadata": {
            "tags": null
          },
          "name": "stderr",
          "output_type": "stream",
          "text": [
            "       7/50       5.3G      2.316      1.319      1.207        283        640: 100%|██████████| 162/162 [01:09<00:00,  2.34it/s]\n",
            "                 Class     Images  Instances      Box(P          R      mAP50  mAP50-95): 100%|██████████| 21/21 [00:10<00:00,  1.99it/s]"
          ]
        },
        {
          "metadata": {
            "tags": null
          },
          "name": "stdout",
          "output_type": "stream",
          "text": [
            "                   all        641      18458       0.36      0.262      0.226     0.0854\n"
          ]
        },
        {
          "metadata": {
            "tags": null
          },
          "name": "stderr",
          "output_type": "stream",
          "text": [
            "\n"
          ]
        },
        {
          "metadata": {
            "tags": null
          },
          "name": "stdout",
          "output_type": "stream",
          "text": [
            "\n",
            "      Epoch    GPU_mem   box_loss   cls_loss   dfl_loss  Instances       Size\n"
          ]
        },
        {
          "metadata": {
            "tags": null
          },
          "name": "stderr",
          "output_type": "stream",
          "text": [
            "       8/50      5.33G      2.285      1.321      1.213        144        640: 100%|██████████| 162/162 [01:09<00:00,  2.33it/s]\n",
            "                 Class     Images  Instances      Box(P          R      mAP50  mAP50-95): 100%|██████████| 21/21 [00:10<00:00,  1.92it/s]\n"
          ]
        },
        {
          "metadata": {
            "tags": null
          },
          "name": "stdout",
          "output_type": "stream",
          "text": [
            "                   all        641      18458      0.371       0.27      0.236     0.0854\n",
            "\n",
            "      Epoch    GPU_mem   box_loss   cls_loss   dfl_loss  Instances       Size\n"
          ]
        },
        {
          "metadata": {
            "tags": null
          },
          "name": "stderr",
          "output_type": "stream",
          "text": [
            "       9/50      5.34G       2.26      1.303      1.203        188        640: 100%|██████████| 162/162 [01:08<00:00,  2.36it/s]\n",
            "                 Class     Images  Instances      Box(P          R      mAP50  mAP50-95): 100%|██████████| 21/21 [00:09<00:00,  2.24it/s]\n"
          ]
        },
        {
          "metadata": {
            "tags": null
          },
          "name": "stdout",
          "output_type": "stream",
          "text": [
            "                   all        641      18458      0.367      0.273       0.23     0.0812\n",
            "\n",
            "      Epoch    GPU_mem   box_loss   cls_loss   dfl_loss  Instances       Size\n"
          ]
        },
        {
          "metadata": {
            "tags": null
          },
          "name": "stderr",
          "output_type": "stream",
          "text": [
            "      10/50      5.36G      2.268       1.29      1.191        269        640: 100%|██████████| 162/162 [01:08<00:00,  2.37it/s]\n",
            "                 Class     Images  Instances      Box(P          R      mAP50  mAP50-95): 100%|██████████| 21/21 [00:10<00:00,  1.94it/s]\n"
          ]
        },
        {
          "metadata": {
            "tags": null
          },
          "name": "stdout",
          "output_type": "stream",
          "text": [
            "                   all        641      18458      0.384      0.273      0.235     0.0873\n",
            "\n",
            "      Epoch    GPU_mem   box_loss   cls_loss   dfl_loss  Instances       Size\n"
          ]
        },
        {
          "metadata": {
            "tags": null
          },
          "name": "stderr",
          "output_type": "stream",
          "text": [
            "      11/50      5.37G      2.277      1.289      1.191        125        640: 100%|██████████| 162/162 [01:09<00:00,  2.35it/s]\n",
            "                 Class     Images  Instances      Box(P          R      mAP50  mAP50-95): 100%|██████████| 21/21 [00:10<00:00,  2.01it/s]\n"
          ]
        },
        {
          "metadata": {
            "tags": null
          },
          "name": "stdout",
          "output_type": "stream",
          "text": [
            "                   all        641      18458      0.387      0.269       0.24     0.0866\n",
            "\n",
            "      Epoch    GPU_mem   box_loss   cls_loss   dfl_loss  Instances       Size\n"
          ]
        },
        {
          "metadata": {
            "tags": null
          },
          "name": "stderr",
          "output_type": "stream",
          "text": [
            "      12/50       5.4G       2.25       1.27      1.188        265        640: 100%|██████████| 162/162 [01:09<00:00,  2.34it/s]\n",
            "                 Class     Images  Instances      Box(P          R      mAP50  mAP50-95): 100%|██████████| 21/21 [00:09<00:00,  2.21it/s]\n"
          ]
        },
        {
          "metadata": {
            "tags": null
          },
          "name": "stdout",
          "output_type": "stream",
          "text": [
            "                   all        641      18458      0.381      0.286      0.246     0.0914\n",
            "\n",
            "      Epoch    GPU_mem   box_loss   cls_loss   dfl_loss  Instances       Size\n"
          ]
        },
        {
          "metadata": {
            "tags": null
          },
          "name": "stderr",
          "output_type": "stream",
          "text": [
            "      13/50      5.41G       2.23      1.269      1.186        145        640: 100%|██████████| 162/162 [01:08<00:00,  2.38it/s]\n",
            "                 Class     Images  Instances      Box(P          R      mAP50  mAP50-95): 100%|██████████| 21/21 [00:10<00:00,  1.96it/s]\n"
          ]
        },
        {
          "metadata": {
            "tags": null
          },
          "name": "stdout",
          "output_type": "stream",
          "text": [
            "                   all        641      18458      0.396      0.287      0.256     0.0949\n",
            "\n",
            "      Epoch    GPU_mem   box_loss   cls_loss   dfl_loss  Instances       Size\n"
          ]
        },
        {
          "metadata": {
            "tags": null
          },
          "name": "stderr",
          "output_type": "stream",
          "text": [
            "      14/50      5.43G      2.207      1.235      1.173        313        640: 100%|██████████| 162/162 [01:08<00:00,  2.36it/s]\n",
            "                 Class     Images  Instances      Box(P          R      mAP50  mAP50-95): 100%|██████████| 21/21 [00:10<00:00,  1.98it/s]\n"
          ]
        },
        {
          "metadata": {
            "tags": null
          },
          "name": "stdout",
          "output_type": "stream",
          "text": [
            "                   all        641      18458      0.394      0.278      0.245     0.0895\n",
            "\n",
            "      Epoch    GPU_mem   box_loss   cls_loss   dfl_loss  Instances       Size\n"
          ]
        },
        {
          "metadata": {
            "tags": null
          },
          "name": "stderr",
          "output_type": "stream",
          "text": [
            "      15/50      5.44G      2.213      1.264      1.179        289        640: 100%|██████████| 162/162 [01:09<00:00,  2.35it/s]\n",
            "                 Class     Images  Instances      Box(P          R      mAP50  mAP50-95): 100%|██████████| 21/21 [00:10<00:00,  1.99it/s]\n"
          ]
        },
        {
          "metadata": {
            "tags": null
          },
          "name": "stdout",
          "output_type": "stream",
          "text": [
            "                   all        641      18458      0.398      0.286       0.26     0.0969\n",
            "\n",
            "      Epoch    GPU_mem   box_loss   cls_loss   dfl_loss  Instances       Size\n"
          ]
        },
        {
          "metadata": {
            "tags": null
          },
          "name": "stderr",
          "output_type": "stream",
          "text": [
            "      16/50      5.46G      2.178      1.233      1.176        276        640: 100%|██████████| 162/162 [01:07<00:00,  2.40it/s]\n",
            "                 Class     Images  Instances      Box(P          R      mAP50  mAP50-95): 100%|██████████| 21/21 [00:10<00:00,  2.05it/s]\n"
          ]
        },
        {
          "metadata": {
            "tags": null
          },
          "name": "stdout",
          "output_type": "stream",
          "text": [
            "                   all        641      18458      0.391      0.272      0.243     0.0885\n",
            "\n",
            "      Epoch    GPU_mem   box_loss   cls_loss   dfl_loss  Instances       Size\n"
          ]
        },
        {
          "metadata": {
            "tags": null
          },
          "name": "stderr",
          "output_type": "stream",
          "text": [
            "      17/50      5.47G      2.186      1.235      1.174        135        640: 100%|██████████| 162/162 [01:08<00:00,  2.36it/s]\n",
            "                 Class     Images  Instances      Box(P          R      mAP50  mAP50-95): 100%|██████████| 21/21 [00:10<00:00,  1.93it/s]\n"
          ]
        },
        {
          "metadata": {
            "tags": null
          },
          "name": "stdout",
          "output_type": "stream",
          "text": [
            "                   all        641      18458      0.403      0.279      0.255     0.0955\n",
            "\n",
            "      Epoch    GPU_mem   box_loss   cls_loss   dfl_loss  Instances       Size\n"
          ]
        },
        {
          "metadata": {
            "tags": null
          },
          "name": "stderr",
          "output_type": "stream",
          "text": [
            "      18/50       5.5G      2.192      1.234      1.163        311        640: 100%|██████████| 162/162 [01:09<00:00,  2.34it/s]\n",
            "                 Class     Images  Instances      Box(P          R      mAP50  mAP50-95): 100%|██████████| 21/21 [00:10<00:00,  1.96it/s]\n"
          ]
        },
        {
          "metadata": {
            "tags": null
          },
          "name": "stdout",
          "output_type": "stream",
          "text": [
            "                   all        641      18458        0.4      0.278      0.256     0.0977\n",
            "\n",
            "      Epoch    GPU_mem   box_loss   cls_loss   dfl_loss  Instances       Size\n"
          ]
        },
        {
          "metadata": {
            "tags": null
          },
          "name": "stderr",
          "output_type": "stream",
          "text": [
            "      19/50      5.51G      2.187      1.237      1.169        172        640: 100%|██████████| 162/162 [01:08<00:00,  2.36it/s]\n",
            "                 Class     Images  Instances      Box(P          R      mAP50  mAP50-95): 100%|██████████| 21/21 [00:09<00:00,  2.21it/s]"
          ]
        },
        {
          "metadata": {
            "tags": null
          },
          "name": "stdout",
          "output_type": "stream",
          "text": [
            "                   all        641      18458      0.378      0.285      0.258     0.0984\n"
          ]
        },
        {
          "metadata": {
            "tags": null
          },
          "name": "stderr",
          "output_type": "stream",
          "text": [
            "\n"
          ]
        },
        {
          "metadata": {
            "tags": null
          },
          "name": "stdout",
          "output_type": "stream",
          "text": [
            "\n",
            "      Epoch    GPU_mem   box_loss   cls_loss   dfl_loss  Instances       Size\n"
          ]
        },
        {
          "metadata": {
            "tags": null
          },
          "name": "stderr",
          "output_type": "stream",
          "text": [
            "      20/50      5.53G      2.165      1.219      1.162        130        640: 100%|██████████| 162/162 [01:09<00:00,  2.32it/s]\n",
            "                 Class     Images  Instances      Box(P          R      mAP50  mAP50-95): 100%|██████████| 21/21 [00:10<00:00,  1.97it/s]"
          ]
        },
        {
          "metadata": {
            "tags": null
          },
          "name": "stdout",
          "output_type": "stream",
          "text": [
            "                   all        641      18458      0.402      0.283      0.262     0.0991\n"
          ]
        },
        {
          "metadata": {
            "tags": null
          },
          "name": "stderr",
          "output_type": "stream",
          "text": [
            "\n"
          ]
        },
        {
          "metadata": {
            "tags": null
          },
          "name": "stdout",
          "output_type": "stream",
          "text": [
            "\n",
            "      Epoch    GPU_mem   box_loss   cls_loss   dfl_loss  Instances       Size\n"
          ]
        },
        {
          "metadata": {
            "tags": null
          },
          "name": "stderr",
          "output_type": "stream",
          "text": [
            "      21/50      5.54G      2.152      1.207      1.154        185        640: 100%|██████████| 162/162 [01:08<00:00,  2.35it/s]\n",
            "                 Class     Images  Instances      Box(P          R      mAP50  mAP50-95): 100%|██████████| 21/21 [00:10<00:00,  1.96it/s]\n"
          ]
        },
        {
          "metadata": {
            "tags": null
          },
          "name": "stdout",
          "output_type": "stream",
          "text": [
            "                   all        641      18458      0.399      0.286      0.255     0.0965\n",
            "\n",
            "      Epoch    GPU_mem   box_loss   cls_loss   dfl_loss  Instances       Size\n"
          ]
        },
        {
          "metadata": {
            "tags": null
          },
          "name": "stderr",
          "output_type": "stream",
          "text": [
            "      22/50      5.57G      2.165      1.205      1.153        133        640: 100%|██████████| 162/162 [01:08<00:00,  2.38it/s]\n",
            "                 Class     Images  Instances      Box(P          R      mAP50  mAP50-95): 100%|██████████| 21/21 [00:09<00:00,  2.19it/s]\n"
          ]
        },
        {
          "metadata": {
            "tags": null
          },
          "name": "stdout",
          "output_type": "stream",
          "text": [
            "                   all        641      18458        0.4      0.281      0.257     0.0999\n",
            "\n",
            "      Epoch    GPU_mem   box_loss   cls_loss   dfl_loss  Instances       Size\n"
          ]
        },
        {
          "metadata": {
            "tags": null
          },
          "name": "stderr",
          "output_type": "stream",
          "text": [
            "      23/50      5.58G      2.147      1.202      1.155        103        640: 100%|██████████| 162/162 [01:08<00:00,  2.37it/s]\n",
            "                 Class     Images  Instances      Box(P          R      mAP50  mAP50-95): 100%|██████████| 21/21 [00:10<00:00,  2.02it/s]\n"
          ]
        },
        {
          "metadata": {
            "tags": null
          },
          "name": "stdout",
          "output_type": "stream",
          "text": [
            "                   all        641      18458      0.403      0.283      0.254     0.0957\n",
            "\n",
            "      Epoch    GPU_mem   box_loss   cls_loss   dfl_loss  Instances       Size\n"
          ]
        },
        {
          "metadata": {
            "tags": null
          },
          "name": "stderr",
          "output_type": "stream",
          "text": [
            "      24/50       5.6G      2.145      1.201      1.155        182        640: 100%|██████████| 162/162 [01:08<00:00,  2.37it/s]\n",
            "                 Class     Images  Instances      Box(P          R      mAP50  mAP50-95): 100%|██████████| 21/21 [00:10<00:00,  2.00it/s]\n"
          ]
        },
        {
          "metadata": {
            "tags": null
          },
          "name": "stdout",
          "output_type": "stream",
          "text": [
            "                   all        641      18458      0.415      0.286       0.26     0.0977\n",
            "\n",
            "      Epoch    GPU_mem   box_loss   cls_loss   dfl_loss  Instances       Size\n"
          ]
        },
        {
          "metadata": {
            "tags": null
          },
          "name": "stderr",
          "output_type": "stream",
          "text": [
            "      25/50      5.61G      2.134      1.199      1.157        160        640: 100%|██████████| 162/162 [01:07<00:00,  2.40it/s]\n",
            "                 Class     Images  Instances      Box(P          R      mAP50  mAP50-95): 100%|██████████| 21/21 [00:09<00:00,  2.21it/s]\n"
          ]
        },
        {
          "metadata": {
            "tags": null
          },
          "name": "stdout",
          "output_type": "stream",
          "text": [
            "                   all        641      18458      0.408      0.283       0.26        0.1\n",
            "\n",
            "      Epoch    GPU_mem   box_loss   cls_loss   dfl_loss  Instances       Size\n"
          ]
        },
        {
          "metadata": {
            "tags": null
          },
          "name": "stderr",
          "output_type": "stream",
          "text": [
            "      26/50      5.64G      2.113      1.189       1.15        130        640: 100%|██████████| 162/162 [01:07<00:00,  2.41it/s]\n",
            "                 Class     Images  Instances      Box(P          R      mAP50  mAP50-95): 100%|██████████| 21/21 [00:09<00:00,  2.11it/s]\n"
          ]
        },
        {
          "metadata": {
            "tags": null
          },
          "name": "stdout",
          "output_type": "stream",
          "text": [
            "                   all        641      18458      0.396      0.294      0.262     0.0987\n",
            "\n",
            "      Epoch    GPU_mem   box_loss   cls_loss   dfl_loss  Instances       Size\n"
          ]
        },
        {
          "metadata": {
            "tags": null
          },
          "name": "stderr",
          "output_type": "stream",
          "text": [
            "      27/50      5.64G      2.126      1.181       1.15        205        640: 100%|██████████| 162/162 [01:07<00:00,  2.41it/s]\n",
            "                 Class     Images  Instances      Box(P          R      mAP50  mAP50-95): 100%|██████████| 21/21 [00:10<00:00,  2.01it/s]\n"
          ]
        },
        {
          "metadata": {
            "tags": null
          },
          "name": "stdout",
          "output_type": "stream",
          "text": [
            "                   all        641      18458      0.413       0.29      0.264      0.101\n",
            "\n",
            "      Epoch    GPU_mem   box_loss   cls_loss   dfl_loss  Instances       Size\n"
          ]
        },
        {
          "metadata": {
            "tags": null
          },
          "name": "stderr",
          "output_type": "stream",
          "text": [
            "      28/50      5.67G      2.122      1.185      1.143        255        640: 100%|██████████| 162/162 [01:07<00:00,  2.39it/s]\n",
            "                 Class     Images  Instances      Box(P          R      mAP50  mAP50-95): 100%|██████████| 21/21 [00:09<00:00,  2.14it/s]\n"
          ]
        },
        {
          "metadata": {
            "tags": null
          },
          "name": "stdout",
          "output_type": "stream",
          "text": [
            "                   all        641      18458      0.409      0.294      0.272      0.104\n",
            "\n",
            "      Epoch    GPU_mem   box_loss   cls_loss   dfl_loss  Instances       Size\n"
          ]
        },
        {
          "metadata": {
            "tags": null
          },
          "name": "stderr",
          "output_type": "stream",
          "text": [
            "      29/50      5.68G      2.128      1.173      1.142        200        640: 100%|██████████| 162/162 [01:07<00:00,  2.40it/s]\n",
            "                 Class     Images  Instances      Box(P          R      mAP50  mAP50-95): 100%|██████████| 21/21 [00:09<00:00,  2.30it/s]\n"
          ]
        },
        {
          "metadata": {
            "tags": null
          },
          "name": "stdout",
          "output_type": "stream",
          "text": [
            "                   all        641      18458      0.414      0.293      0.275      0.105\n",
            "\n",
            "      Epoch    GPU_mem   box_loss   cls_loss   dfl_loss  Instances       Size\n"
          ]
        },
        {
          "metadata": {
            "tags": null
          },
          "name": "stderr",
          "output_type": "stream",
          "text": [
            "      30/50       5.7G       2.12      1.183      1.143        166        640: 100%|██████████| 162/162 [01:08<00:00,  2.37it/s]\n",
            "                 Class     Images  Instances      Box(P          R      mAP50  mAP50-95): 100%|██████████| 21/21 [00:10<00:00,  2.03it/s]\n"
          ]
        },
        {
          "metadata": {
            "tags": null
          },
          "name": "stdout",
          "output_type": "stream",
          "text": [
            "                   all        641      18458      0.408      0.289      0.267      0.104\n",
            "\n",
            "      Epoch    GPU_mem   box_loss   cls_loss   dfl_loss  Instances       Size\n"
          ]
        },
        {
          "output_type": "stream",
          "name": "stderr",
          "text": [
            "      31/50      5.71G      2.103      1.163      1.137        206        640: 100%|██████████| 162/162 [01:07<00:00,  2.39it/s]\n",
            "                 Class     Images  Instances      Box(P          R      mAP50  mAP50-95): 100%|██████████| 21/21 [00:10<00:00,  2.03it/s]\n"
          ]
        },
        {
          "output_type": "stream",
          "name": "stdout",
          "text": [
            "                   all        641      18458      0.403      0.284      0.263      0.102\n",
            "\n",
            "      Epoch    GPU_mem   box_loss   cls_loss   dfl_loss  Instances       Size\n"
          ]
        },
        {
          "output_type": "stream",
          "name": "stderr",
          "text": [
            "      32/50      5.71G      2.122       1.18      1.139        918        640:  34%|███▍      | 55/162 [00:21<00:43,  2.46it/s]"
          ]
        }
      ]
    }
  ],
  "metadata": {
    "kernelspec": {
      "display_name": "deepsee",
      "language": "python",
      "name": "python3"
    },
    "language_info": {
      "codemirror_mode": {
        "name": "ipython",
        "version": 3
      },
      "file_extension": ".py",
      "mimetype": "text/x-python",
      "name": "python",
      "nbconvert_exporter": "python",
      "pygments_lexer": "ipython3",
      "version": "3.10.14"
    },
    "colab": {
      "provenance": []
    }
  },
  "nbformat": 4,
  "nbformat_minor": 5
}