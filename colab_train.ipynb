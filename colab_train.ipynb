{
 "cells": [
  {
   "cell_type": "code",
   "execution_count": null,
   "id": "2e5aee2b",
   "metadata": {},
   "outputs": [],
   "source": [
    "from ultralytics import YOLO\n",
    "from config import DATASET_DIR, OUTPUT_DIR, SAFE_CLASS_NAMES\n",
    "\n",
    "model = YOLO(\"yolov8n.yaml\")\n",
    "results = model.train(\n",
    "    data=os.path.join(DATASET_DIR, \"data.yaml\"),\n",
    "    epochs=50,\n",
    "    imgsz=640,\n",
    "    batch=16,\n",
    "    project=OUTPUT_DIR,\n",
    "    name=\"exp\",\n",
    "    exist_ok=True\n",
    ")"
   ]
  }
 ],
 "metadata": {
  "language_info": {
   "name": "python"
  }
 },
 "nbformat": 4,
 "nbformat_minor": 5
}
