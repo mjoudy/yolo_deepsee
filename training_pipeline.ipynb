{
 "cells": [
  {
   "cell_type": "code",
   "execution_count": null,
   "id": "82adfb6a",
   "metadata": {},
   "outputs": [],
   "source": [
    "!git clone https://github.com/mjoudy/yolo_deepsee.git\n",
    "%cd yolo_deepsee/\n",
    "%ls"
   ]
  },
  {
   "cell_type": "code",
   "execution_count": null,
   "id": "5f160cd6",
   "metadata": {},
   "outputs": [],
   "source": [
    "from google.colab import drive\n",
    "drive.mount('/content/drive', force_remount=True)"
   ]
  },
  {
   "cell_type": "code",
   "execution_count": null,
   "id": "a588029a",
   "metadata": {},
   "outputs": [],
   "source": [
    "!pip install ultralytics"
   ]
  },
  {
   "cell_type": "code",
   "execution_count": null,
   "id": "425be83c",
   "metadata": {},
   "outputs": [],
   "source": [
    "from batch_selection_script import create_batch_dataset, create_dataset_yaml\n",
    "\n",
    "import os\n",
    "from ultralytics import YOLO\n",
    "from config import DATASET_DIR, OUTPUT_DIR, SAFE_CLASS_NAMES"
   ]
  },
  {
   "cell_type": "code",
   "execution_count": null,
   "id": "ed4527b5",
   "metadata": {},
   "outputs": [],
   "source": [
    "results = create_batch_dataset(N_images=100, classes=[\"Buccinid snail\"])\n",
    "dataset_yaml = create_dataset_yaml(\"100\", results['classes'])"
   ]
  },
  {
   "cell_type": "code",
   "execution_count": null,
   "id": "2777dd30",
   "metadata": {},
   "outputs": [],
   "source": [
    "# Prepare dataset\n",
    "dataset_outputs = create_batch_dataset(N_images=\"all\")\n",
    "\n",
    "# Now you have these outputs to use with YOLO:\n",
    "print(f\"Images folder: {dataset_outputs['images_folder']}\")\n",
    "print(f\"Labels folder: {dataset_outputs['labels_folder']}\")\n",
    "print(f\"Dataset YAML: {dataset_outputs['dataset_yaml']}\")\n",
    "print(f\"Number of images: {dataset_outputs['processed_count']}\")\n",
    "print(f\"Classes: {dataset_outputs['classes']}\")"
   ]
  },
  {
   "cell_type": "code",
   "execution_count": null,
   "id": "2682622a",
   "metadata": {},
   "outputs": [],
   "source": [
    "# === YOUR MODIFIED CODE ===\n",
    "EXP_NAME = \"exp\"\n",
    "EXP_DIR = os.path.join(\".\", EXP_NAME)  # Changed from OUTPUT_DIR to current directory\n",
    "WEIGHT_DIR = os.path.join(EXP_DIR, \"weights\")\n",
    "LAST_PATH = os.path.join(WEIGHT_DIR, \"last.pt\")\n",
    "\n",
    "if os.path.exists(LAST_PATH):\n",
    "    print(f\"✅ Found last checkpoint at {LAST_PATH}. Resuming training.\")\n",
    "    model = YOLO(LAST_PATH)\n",
    "    resume_flag = True\n",
    "else:\n",
    "    print(\"🆕 No checkpoint found. Starting from scratch with yolov8n.yaml.\")\n",
    "    model = YOLO(\"yolov8n.yaml\")\n",
    "    resume_flag = False"
   ]
  },
  {
   "cell_type": "code",
   "execution_count": null,
   "id": "11afacf3",
   "metadata": {},
   "outputs": [],
   "source": [
    "results = model.train(\n",
    "    data=dataset_yaml,  # Use the YAML file created by batch selection\n",
    "    epochs=100,\n",
    "    imgsz=640,\n",
    "    batch=16,\n",
    "    name=EXP_NAME,\n",
    "    project=EXP_DIR\n",
    ")"
   ]
  }
 ],
 "metadata": {
  "kernelspec": {
   "display_name": "deepsee",
   "language": "python",
   "name": "python3"
  },
  "language_info": {
   "codemirror_mode": {
    "name": "ipython",
    "version": 3
   },
   "file_extension": ".py",
   "mimetype": "text/x-python",
   "name": "python",
   "nbconvert_exporter": "python",
   "pygments_lexer": "ipython3",
   "version": "3.10.14"
  }
 },
 "nbformat": 4,
 "nbformat_minor": 5
}
