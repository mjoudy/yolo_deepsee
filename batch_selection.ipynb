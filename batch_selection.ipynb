{
 "cells": [
  {
   "cell_type": "code",
   "execution_count": 1,
   "id": "21a8c923",
   "metadata": {},
   "outputs": [],
   "source": [
    "import os\n",
    "import shutil\n",
    "import random\n",
    "import pandas as pd\n",
    "from PIL import Image"
   ]
  },
  {
   "cell_type": "code",
   "execution_count": 2,
   "id": "561eb948",
   "metadata": {},
   "outputs": [],
   "source": [
    "# ==== CONFIGURATION ====\n",
    "N = 1000  # number of images to select\n",
    "images_folder = \"images\"\n",
    "annotations_csv = \"raw-dataset.csv\"\n",
    "#output_images_folder = \"images_100\"\n",
    "output_images_folder = f\"images_{N}\"\n",
    "output_labels_folder = f\"labels_{N}\"\n",
    "classes = [\"Bythograeid crab\"]  # define your classes here"
   ]
  },
  {
   "cell_type": "code",
   "execution_count": 3,
   "id": "32b562ec",
   "metadata": {},
   "outputs": [
    {
     "name": "stderr",
     "output_type": "stream",
     "text": [
      "/tmp/ipykernel_37569/4120231678.py:6: DtypeWarning: Columns (10) have mixed types. Specify dtype option on import or set low_memory=False.\n",
      "  df = pd.read_csv(annotations_csv, sep=';')\n"
     ]
    }
   ],
   "source": [
    "# ==== PREPARE OUTPUT ====\n",
    "os.makedirs(output_images_folder, exist_ok=True)\n",
    "os.makedirs(output_labels_folder, exist_ok=True)\n",
    "\n",
    "# ==== LOAD ANNOTATIONS ====\n",
    "df = pd.read_csv(annotations_csv, sep=';')\n",
    "df = df[df['name_sp'].isin(classes)]  # Filter known classes only\n",
    "\n",
    "# ==== SELECT RANDOM IMAGES ====\n",
    "all_images = df['name_img'].unique().tolist()\n",
    "selected_images = random.sample(all_images, min(N, len(all_images)))"
   ]
  },
  {
   "cell_type": "code",
   "execution_count": 4,
   "id": "babdcf5e",
   "metadata": {},
   "outputs": [
    {
     "name": "stdout",
     "output_type": "stream",
     "text": [
      "✅ Done. 463 images and annotations processed.\n"
     ]
    }
   ],
   "source": [
    "# ==== PROCESS EACH SELECTED IMAGE ====\n",
    "for img_name in selected_images:\n",
    "    src_img_path = os.path.join(images_folder, img_name)\n",
    "    dst_img_path = os.path.join(output_images_folder, img_name)\n",
    "\n",
    "    if not os.path.exists(src_img_path):\n",
    "        print(f\"Warning: Image {img_name} not found.\")\n",
    "        continue\n",
    "\n",
    "    # Copy image\n",
    "    shutil.copy(src_img_path, dst_img_path)\n",
    "\n",
    "    # Open image to get dimensions\n",
    "    with Image.open(src_img_path) as img:\n",
    "        img_width, img_height = img.size\n",
    "\n",
    "    # Filter annotations for this image\n",
    "    annots = df[df['name_img'] == img_name]\n",
    "\n",
    "    # Write YOLO-format txt\n",
    "    txt_filename = os.path.splitext(img_name)[0] + \".txt\"\n",
    "    txt_path = os.path.join(output_labels_folder, txt_filename)\n",
    "    with open(txt_path, \"w\") as f:\n",
    "        for _, row in annots.iterrows():\n",
    "            class_id = classes.index(row['name_sp'])\n",
    "            # Get box in x1, y1, x2, y2 format\n",
    "            x1, y1, x2, y2 = row['x1'], row['y1'], row['x2'], row['y2']\n",
    "            if any(pd.isnull([x1, y1, x2, y2])):\n",
    "                continue  # skip invalid rows\n",
    "\n",
    "            x_center = ((x1 + x2) / 2) / img_width\n",
    "            y_center = ((y1 + y2) / 2) / img_height\n",
    "            width = abs(x2 - x1) / img_width\n",
    "            height = abs(y2 - y1) / img_height\n",
    "\n",
    "            # Write to txt\n",
    "            f.write(f\"{class_id} {x_center:.6f} {y_center:.6f} {width:.6f} {height:.6f}\\n\")\n",
    "\n",
    "print(f\"✅ Done. {len(selected_images)} images and annotations processed.\")\n"
   ]
  },
  {
   "cell_type": "code",
   "execution_count": null,
   "id": "3d57f256",
   "metadata": {},
   "outputs": [],
   "source": []
  }
 ],
 "metadata": {
  "kernelspec": {
   "display_name": "deepsee",
   "language": "python",
   "name": "python3"
  },
  "language_info": {
   "codemirror_mode": {
    "name": "ipython",
    "version": 3
   },
   "file_extension": ".py",
   "mimetype": "text/x-python",
   "name": "python",
   "nbconvert_exporter": "python",
   "pygments_lexer": "ipython3",
   "version": "3.10.17"
  }
 },
 "nbformat": 4,
 "nbformat_minor": 5
}
